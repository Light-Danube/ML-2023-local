{
  "nbformat": 4,
  "nbformat_minor": 0,
  "metadata": {
    "colab": {
      "provenance": [],
      "gpuType": "T4"
    },
    "kernelspec": {
      "name": "python3",
      "display_name": "Python 3"
    },
    "language_info": {
      "name": "python"
    },
    "accelerator": "GPU"
  },
  "cells": [
    {
      "cell_type": "code",
      "execution_count": 1,
      "metadata": {
        "colab": {
          "base_uri": "https://localhost:8080/",
          "height": 90
        },
        "id": "aBFgr78ZzQZb",
        "outputId": "9dbbe03c-dce9-4871-f9f1-8c43efb6a1ae"
      },
      "outputs": [
        {
          "output_type": "display_data",
          "data": {
            "text/plain": [
              "<IPython.core.display.HTML object>"
            ],
            "text/html": [
              "\n",
              "     <input type=\"file\" id=\"files-3d72d6d2-b8c1-4c3d-b6d6-4d168ec667f1\" name=\"files[]\" multiple disabled\n",
              "        style=\"border:none\" />\n",
              "     <output id=\"result-3d72d6d2-b8c1-4c3d-b6d6-4d168ec667f1\">\n",
              "      Upload widget is only available when the cell has been executed in the\n",
              "      current browser session. Please rerun this cell to enable.\n",
              "      </output>\n",
              "      <script>// Copyright 2017 Google LLC\n",
              "//\n",
              "// Licensed under the Apache License, Version 2.0 (the \"License\");\n",
              "// you may not use this file except in compliance with the License.\n",
              "// You may obtain a copy of the License at\n",
              "//\n",
              "//      http://www.apache.org/licenses/LICENSE-2.0\n",
              "//\n",
              "// Unless required by applicable law or agreed to in writing, software\n",
              "// distributed under the License is distributed on an \"AS IS\" BASIS,\n",
              "// WITHOUT WARRANTIES OR CONDITIONS OF ANY KIND, either express or implied.\n",
              "// See the License for the specific language governing permissions and\n",
              "// limitations under the License.\n",
              "\n",
              "/**\n",
              " * @fileoverview Helpers for google.colab Python module.\n",
              " */\n",
              "(function(scope) {\n",
              "function span(text, styleAttributes = {}) {\n",
              "  const element = document.createElement('span');\n",
              "  element.textContent = text;\n",
              "  for (const key of Object.keys(styleAttributes)) {\n",
              "    element.style[key] = styleAttributes[key];\n",
              "  }\n",
              "  return element;\n",
              "}\n",
              "\n",
              "// Max number of bytes which will be uploaded at a time.\n",
              "const MAX_PAYLOAD_SIZE = 100 * 1024;\n",
              "\n",
              "function _uploadFiles(inputId, outputId) {\n",
              "  const steps = uploadFilesStep(inputId, outputId);\n",
              "  const outputElement = document.getElementById(outputId);\n",
              "  // Cache steps on the outputElement to make it available for the next call\n",
              "  // to uploadFilesContinue from Python.\n",
              "  outputElement.steps = steps;\n",
              "\n",
              "  return _uploadFilesContinue(outputId);\n",
              "}\n",
              "\n",
              "// This is roughly an async generator (not supported in the browser yet),\n",
              "// where there are multiple asynchronous steps and the Python side is going\n",
              "// to poll for completion of each step.\n",
              "// This uses a Promise to block the python side on completion of each step,\n",
              "// then passes the result of the previous step as the input to the next step.\n",
              "function _uploadFilesContinue(outputId) {\n",
              "  const outputElement = document.getElementById(outputId);\n",
              "  const steps = outputElement.steps;\n",
              "\n",
              "  const next = steps.next(outputElement.lastPromiseValue);\n",
              "  return Promise.resolve(next.value.promise).then((value) => {\n",
              "    // Cache the last promise value to make it available to the next\n",
              "    // step of the generator.\n",
              "    outputElement.lastPromiseValue = value;\n",
              "    return next.value.response;\n",
              "  });\n",
              "}\n",
              "\n",
              "/**\n",
              " * Generator function which is called between each async step of the upload\n",
              " * process.\n",
              " * @param {string} inputId Element ID of the input file picker element.\n",
              " * @param {string} outputId Element ID of the output display.\n",
              " * @return {!Iterable<!Object>} Iterable of next steps.\n",
              " */\n",
              "function* uploadFilesStep(inputId, outputId) {\n",
              "  const inputElement = document.getElementById(inputId);\n",
              "  inputElement.disabled = false;\n",
              "\n",
              "  const outputElement = document.getElementById(outputId);\n",
              "  outputElement.innerHTML = '';\n",
              "\n",
              "  const pickedPromise = new Promise((resolve) => {\n",
              "    inputElement.addEventListener('change', (e) => {\n",
              "      resolve(e.target.files);\n",
              "    });\n",
              "  });\n",
              "\n",
              "  const cancel = document.createElement('button');\n",
              "  inputElement.parentElement.appendChild(cancel);\n",
              "  cancel.textContent = 'Cancel upload';\n",
              "  const cancelPromise = new Promise((resolve) => {\n",
              "    cancel.onclick = () => {\n",
              "      resolve(null);\n",
              "    };\n",
              "  });\n",
              "\n",
              "  // Wait for the user to pick the files.\n",
              "  const files = yield {\n",
              "    promise: Promise.race([pickedPromise, cancelPromise]),\n",
              "    response: {\n",
              "      action: 'starting',\n",
              "    }\n",
              "  };\n",
              "\n",
              "  cancel.remove();\n",
              "\n",
              "  // Disable the input element since further picks are not allowed.\n",
              "  inputElement.disabled = true;\n",
              "\n",
              "  if (!files) {\n",
              "    return {\n",
              "      response: {\n",
              "        action: 'complete',\n",
              "      }\n",
              "    };\n",
              "  }\n",
              "\n",
              "  for (const file of files) {\n",
              "    const li = document.createElement('li');\n",
              "    li.append(span(file.name, {fontWeight: 'bold'}));\n",
              "    li.append(span(\n",
              "        `(${file.type || 'n/a'}) - ${file.size} bytes, ` +\n",
              "        `last modified: ${\n",
              "            file.lastModifiedDate ? file.lastModifiedDate.toLocaleDateString() :\n",
              "                                    'n/a'} - `));\n",
              "    const percent = span('0% done');\n",
              "    li.appendChild(percent);\n",
              "\n",
              "    outputElement.appendChild(li);\n",
              "\n",
              "    const fileDataPromise = new Promise((resolve) => {\n",
              "      const reader = new FileReader();\n",
              "      reader.onload = (e) => {\n",
              "        resolve(e.target.result);\n",
              "      };\n",
              "      reader.readAsArrayBuffer(file);\n",
              "    });\n",
              "    // Wait for the data to be ready.\n",
              "    let fileData = yield {\n",
              "      promise: fileDataPromise,\n",
              "      response: {\n",
              "        action: 'continue',\n",
              "      }\n",
              "    };\n",
              "\n",
              "    // Use a chunked sending to avoid message size limits. See b/62115660.\n",
              "    let position = 0;\n",
              "    do {\n",
              "      const length = Math.min(fileData.byteLength - position, MAX_PAYLOAD_SIZE);\n",
              "      const chunk = new Uint8Array(fileData, position, length);\n",
              "      position += length;\n",
              "\n",
              "      const base64 = btoa(String.fromCharCode.apply(null, chunk));\n",
              "      yield {\n",
              "        response: {\n",
              "          action: 'append',\n",
              "          file: file.name,\n",
              "          data: base64,\n",
              "        },\n",
              "      };\n",
              "\n",
              "      let percentDone = fileData.byteLength === 0 ?\n",
              "          100 :\n",
              "          Math.round((position / fileData.byteLength) * 100);\n",
              "      percent.textContent = `${percentDone}% done`;\n",
              "\n",
              "    } while (position < fileData.byteLength);\n",
              "  }\n",
              "\n",
              "  // All done.\n",
              "  yield {\n",
              "    response: {\n",
              "      action: 'complete',\n",
              "    }\n",
              "  };\n",
              "}\n",
              "\n",
              "scope.google = scope.google || {};\n",
              "scope.google.colab = scope.google.colab || {};\n",
              "scope.google.colab._files = {\n",
              "  _uploadFiles,\n",
              "  _uploadFilesContinue,\n",
              "};\n",
              "})(self);\n",
              "</script> "
            ]
          },
          "metadata": {}
        },
        {
          "output_type": "stream",
          "name": "stdout",
          "text": [
            "Saving kaggle.json to kaggle.json\n"
          ]
        },
        {
          "output_type": "execute_result",
          "data": {
            "text/plain": [
              "{'kaggle.json': b'{\"username\":\"danylosokrut\",\"key\":\"75768029e1c82c4111d9fff1b99600fc\"}'}"
            ]
          },
          "metadata": {},
          "execution_count": 1
        }
      ],
      "source": [
        "from google.colab import files\n",
        "files.upload()"
      ]
    },
    {
      "cell_type": "code",
      "source": [
        "!mkdir ~/.kaggle\n",
        "!cp kaggle.json ~/.kaggle/\n",
        "!chmod 600 ~/.kaggle/kaggle.json"
      ],
      "metadata": {
        "id": "zxhR8RDxzvOM"
      },
      "execution_count": 2,
      "outputs": []
    },
    {
      "cell_type": "code",
      "source": [
        "!kaggle competitions download -c dogs-vs-cats\n",
        "!unzip -qq dogs-vs-cats.zip"
      ],
      "metadata": {
        "colab": {
          "base_uri": "https://localhost:8080/"
        },
        "id": "mliUKOu50Q2U",
        "outputId": "3e7a4ea0-04f6-4259-be46-1fc8046b252a"
      },
      "execution_count": 3,
      "outputs": [
        {
          "output_type": "stream",
          "name": "stdout",
          "text": [
            "Downloading dogs-vs-cats.zip to /content\n",
            " 99% 805M/812M [00:06<00:00, 185MB/s]\n",
            "100% 812M/812M [00:06<00:00, 130MB/s]\n"
          ]
        }
      ]
    },
    {
      "cell_type": "code",
      "source": [
        "!unzip -qq train.zip"
      ],
      "metadata": {
        "id": "inJvhAjf1ST7"
      },
      "execution_count": 4,
      "outputs": []
    },
    {
      "cell_type": "code",
      "source": [
        "### SETUP DATA FOR TRAINING & TESTING"
      ],
      "metadata": {
        "id": "vktFDabb1VeN"
      },
      "execution_count": null,
      "outputs": []
    },
    {
      "cell_type": "code",
      "source": [
        "import os, shutil, pathlib\n",
        "\n",
        "original_dir = pathlib.Path(\"train\")\n",
        "new_base_dir = pathlib.Path(\"cats_vs_dogs_small\")\n",
        "\n",
        "def make_subset(subset_name, start_index, end_index):\n",
        " for category in (\"cat\", \"dog\"):\n",
        "  dir = new_base_dir / subset_name / category\n",
        "  os.makedirs(dir)\n",
        "  fnames = [f\"{category}.{i}.jpg\"\n",
        "            for i in range(start_index, end_index)]\n",
        "  for fname in fnames:\n",
        "      shutil.copyfile(src=original_dir / fname,\n",
        "                      dst=dir / fname)\n",
        "\n",
        "make_subset(\"train\", start_index=0, end_index=1000)\n",
        "make_subset(\"validation\", start_index=1000, end_index=1500)\n",
        "make_subset(\"test\", start_index=1500, end_index=2500)"
      ],
      "metadata": {
        "id": "IJLn0MGc12F6"
      },
      "execution_count": 5,
      "outputs": []
    },
    {
      "cell_type": "code",
      "source": [
        "### Create small convnet for dog & cat classification:\n",
        "from tensorflow import keras\n",
        "from tensorflow.keras import layers\n"
      ],
      "metadata": {
        "id": "rFIsBClp2N3a"
      },
      "execution_count": 6,
      "outputs": []
    },
    {
      "cell_type": "code",
      "source": [
        "### Create small convnet for dog & cat classification:\n",
        "data_augmentation = keras.Sequential(\n",
        " [\n",
        "    layers.RandomFlip(\"horizontal\"),\n",
        "    layers.RandomRotation(0.1),\n",
        "    layers.RandomZoom(0.2),\n",
        " ]\n",
        ")\n"
      ],
      "metadata": {
        "id": "DwKzXk4S3DVv"
      },
      "execution_count": 7,
      "outputs": []
    },
    {
      "cell_type": "code",
      "source": [
        "inputs = keras.Input(shape=(180, 180, 3))\n",
        "x = data_augmentation(inputs)\n",
        "x = layers.Rescaling(1./255)(x)\n",
        "x = layers.Conv2D(filters=32, kernel_size=3, activation=\"relu\")(x)\n",
        "x = layers.MaxPooling2D(pool_size=2)(x)\n",
        "x = layers.Conv2D(filters=64, kernel_size=3, activation=\"relu\")(x)\n",
        "x = layers.MaxPooling2D(pool_size=2)(x)\n",
        "x = layers.Conv2D(filters=128, kernel_size=3, activation=\"relu\")(x)\n",
        "x = layers.MaxPooling2D(pool_size=2)(x)\n",
        "x = layers.Conv2D(filters=256, kernel_size=3, activation=\"relu\")(x)\n",
        "x = layers.MaxPooling2D(pool_size=2)(x)\n",
        "x = layers.Conv2D(filters=256, kernel_size=3, activation=\"relu\")(x)\n",
        "x = layers.Flatten()(x)\n",
        "x = layers.Dropout(0.5)(x)\n",
        "outputs = layers.Dense(1, activation=\"sigmoid\")(x)\n",
        "model = keras.Model(inputs=inputs, outputs=outputs)\n",
        "\n",
        "model.summary()"
      ],
      "metadata": {
        "colab": {
          "base_uri": "https://localhost:8080/"
        },
        "id": "ikztQha67OEu",
        "outputId": "f94ea357-4f3f-480e-d765-bd24d61e5cdf"
      },
      "execution_count": 8,
      "outputs": [
        {
          "output_type": "stream",
          "name": "stdout",
          "text": [
            "Model: \"model\"\n",
            "_________________________________________________________________\n",
            " Layer (type)                Output Shape              Param #   \n",
            "=================================================================\n",
            " input_1 (InputLayer)        [(None, 180, 180, 3)]     0         \n",
            "                                                                 \n",
            " sequential (Sequential)     (None, 180, 180, 3)       0         \n",
            "                                                                 \n",
            " rescaling (Rescaling)       (None, 180, 180, 3)       0         \n",
            "                                                                 \n",
            " conv2d (Conv2D)             (None, 178, 178, 32)      896       \n",
            "                                                                 \n",
            " max_pooling2d (MaxPooling2  (None, 89, 89, 32)        0         \n",
            " D)                                                              \n",
            "                                                                 \n",
            " conv2d_1 (Conv2D)           (None, 87, 87, 64)        18496     \n",
            "                                                                 \n",
            " max_pooling2d_1 (MaxPoolin  (None, 43, 43, 64)        0         \n",
            " g2D)                                                            \n",
            "                                                                 \n",
            " conv2d_2 (Conv2D)           (None, 41, 41, 128)       73856     \n",
            "                                                                 \n",
            " max_pooling2d_2 (MaxPoolin  (None, 20, 20, 128)       0         \n",
            " g2D)                                                            \n",
            "                                                                 \n",
            " conv2d_3 (Conv2D)           (None, 18, 18, 256)       295168    \n",
            "                                                                 \n",
            " max_pooling2d_3 (MaxPoolin  (None, 9, 9, 256)         0         \n",
            " g2D)                                                            \n",
            "                                                                 \n",
            " conv2d_4 (Conv2D)           (None, 7, 7, 256)         590080    \n",
            "                                                                 \n",
            " flatten (Flatten)           (None, 12544)             0         \n",
            "                                                                 \n",
            " dropout (Dropout)           (None, 12544)             0         \n",
            "                                                                 \n",
            " dense (Dense)               (None, 1)                 12545     \n",
            "                                                                 \n",
            "=================================================================\n",
            "Total params: 991041 (3.78 MB)\n",
            "Trainable params: 991041 (3.78 MB)\n",
            "Non-trainable params: 0 (0.00 Byte)\n",
            "_________________________________________________________________\n"
          ]
        }
      ]
    },
    {
      "cell_type": "code",
      "source": [
        "model.compile(loss=\"binary_crossentropy\",\n",
        "    optimizer=\"rmsprop\",\n",
        "    metrics=[\"accuracy\"])"
      ],
      "metadata": {
        "id": "ZGWG2xLt3g3j"
      },
      "execution_count": 9,
      "outputs": []
    },
    {
      "cell_type": "code",
      "source": [
        "###working with image_dataset_from_directory tensorflow.keras function:\n",
        "from tensorflow.keras.utils import image_dataset_from_directory\n",
        "\n",
        "train_dataset = image_dataset_from_directory(\n",
        "    new_base_dir / \"train\",\n",
        "    image_size=(180, 180),\n",
        "    batch_size=32)\n",
        "validation_dataset = image_dataset_from_directory(\n",
        "    new_base_dir / \"validation\",\n",
        "    image_size=(180, 180),\n",
        "    batch_size=32)\n",
        "test_dataset = image_dataset_from_directory(\n",
        "    new_base_dir / \"test\",\n",
        "    image_size=(180, 180),\n",
        "    batch_size=32)\n"
      ],
      "metadata": {
        "colab": {
          "base_uri": "https://localhost:8080/"
        },
        "id": "dY_p3jIu4G8o",
        "outputId": "f53535e6-d68a-40fa-a2f4-83b88a73fd44"
      },
      "execution_count": 10,
      "outputs": [
        {
          "output_type": "stream",
          "name": "stdout",
          "text": [
            "Found 2000 files belonging to 2 classes.\n",
            "Found 1000 files belonging to 2 classes.\n",
            "Found 2000 files belonging to 2 classes.\n"
          ]
        }
      ]
    },
    {
      "cell_type": "code",
      "source": [
        "callbacks = [\n",
        "    keras.callbacks.ModelCheckpoint(\n",
        "        filepath=\"convnet_from_scratch_with_augmentation.keras\",\n",
        "        save_best_only=True,\n",
        "        monitor=\"val_loss\")\n",
        "    ]\n",
        "\n",
        "history = model.fit(\n",
        "    train_dataset,\n",
        "    epochs=100,\n",
        "    validation_data=validation_dataset,\n",
        "    callbacks=callbacks)"
      ],
      "metadata": {
        "colab": {
          "base_uri": "https://localhost:8080/"
        },
        "id": "atnYbNw_6mZS",
        "outputId": "7b645e3d-5f67-4b56-e975-f8bd0b017c07"
      },
      "execution_count": 11,
      "outputs": [
        {
          "output_type": "stream",
          "name": "stdout",
          "text": [
            "Epoch 1/100\n",
            "63/63 [==============================] - 21s 110ms/step - loss: 0.6972 - accuracy: 0.4895 - val_loss: 0.6930 - val_accuracy: 0.5000\n",
            "Epoch 2/100\n",
            "63/63 [==============================] - 5s 78ms/step - loss: 0.6935 - accuracy: 0.5325 - val_loss: 0.6965 - val_accuracy: 0.5000\n",
            "Epoch 3/100\n",
            "63/63 [==============================] - 6s 88ms/step - loss: 0.7078 - accuracy: 0.5445 - val_loss: 0.6702 - val_accuracy: 0.6360\n",
            "Epoch 4/100\n",
            "63/63 [==============================] - 5s 80ms/step - loss: 0.6773 - accuracy: 0.5820 - val_loss: 0.7182 - val_accuracy: 0.5060\n",
            "Epoch 5/100\n",
            "63/63 [==============================] - 5s 69ms/step - loss: 0.6547 - accuracy: 0.6275 - val_loss: 0.8352 - val_accuracy: 0.5230\n",
            "Epoch 6/100\n",
            "63/63 [==============================] - 7s 106ms/step - loss: 0.6712 - accuracy: 0.6175 - val_loss: 0.6443 - val_accuracy: 0.6460\n",
            "Epoch 7/100\n",
            "63/63 [==============================] - 6s 88ms/step - loss: 0.6400 - accuracy: 0.6550 - val_loss: 0.6181 - val_accuracy: 0.6490\n",
            "Epoch 8/100\n",
            "63/63 [==============================] - 6s 91ms/step - loss: 0.6179 - accuracy: 0.6620 - val_loss: 0.7199 - val_accuracy: 0.5970\n",
            "Epoch 9/100\n",
            "63/63 [==============================] - 7s 101ms/step - loss: 0.6059 - accuracy: 0.6840 - val_loss: 0.5771 - val_accuracy: 0.6820\n",
            "Epoch 10/100\n",
            "63/63 [==============================] - 5s 82ms/step - loss: 0.5861 - accuracy: 0.6940 - val_loss: 0.5772 - val_accuracy: 0.6880\n",
            "Epoch 11/100\n",
            "63/63 [==============================] - 6s 86ms/step - loss: 0.5784 - accuracy: 0.7080 - val_loss: 0.5694 - val_accuracy: 0.6960\n",
            "Epoch 12/100\n",
            "63/63 [==============================] - 7s 112ms/step - loss: 0.5631 - accuracy: 0.7090 - val_loss: 0.5455 - val_accuracy: 0.7140\n",
            "Epoch 13/100\n",
            "63/63 [==============================] - 6s 92ms/step - loss: 0.5635 - accuracy: 0.7200 - val_loss: 0.5368 - val_accuracy: 0.7250\n",
            "Epoch 14/100\n",
            "63/63 [==============================] - 4s 62ms/step - loss: 0.5552 - accuracy: 0.7125 - val_loss: 0.6093 - val_accuracy: 0.7180\n",
            "Epoch 15/100\n",
            "63/63 [==============================] - 4s 64ms/step - loss: 0.5415 - accuracy: 0.7290 - val_loss: 0.9976 - val_accuracy: 0.5910\n",
            "Epoch 16/100\n",
            "63/63 [==============================] - 6s 85ms/step - loss: 0.5458 - accuracy: 0.7225 - val_loss: 0.7943 - val_accuracy: 0.6680\n",
            "Epoch 17/100\n",
            "63/63 [==============================] - 6s 87ms/step - loss: 0.5337 - accuracy: 0.7440 - val_loss: 0.5083 - val_accuracy: 0.7510\n",
            "Epoch 18/100\n",
            "63/63 [==============================] - 6s 88ms/step - loss: 0.5161 - accuracy: 0.7465 - val_loss: 0.5077 - val_accuracy: 0.7420\n",
            "Epoch 19/100\n",
            "63/63 [==============================] - 6s 86ms/step - loss: 0.4926 - accuracy: 0.7730 - val_loss: 0.5449 - val_accuracy: 0.7210\n",
            "Epoch 20/100\n",
            "63/63 [==============================] - 6s 93ms/step - loss: 0.4944 - accuracy: 0.7745 - val_loss: 0.5000 - val_accuracy: 0.7550\n",
            "Epoch 21/100\n",
            "63/63 [==============================] - 5s 72ms/step - loss: 0.4941 - accuracy: 0.7620 - val_loss: 0.5109 - val_accuracy: 0.7410\n",
            "Epoch 22/100\n",
            "63/63 [==============================] - 6s 87ms/step - loss: 0.4706 - accuracy: 0.7735 - val_loss: 0.4679 - val_accuracy: 0.7810\n",
            "Epoch 23/100\n",
            "63/63 [==============================] - 7s 109ms/step - loss: 0.4773 - accuracy: 0.7715 - val_loss: 0.4364 - val_accuracy: 0.7970\n",
            "Epoch 24/100\n",
            "63/63 [==============================] - 5s 81ms/step - loss: 0.4612 - accuracy: 0.7855 - val_loss: 0.7475 - val_accuracy: 0.6930\n",
            "Epoch 25/100\n",
            "63/63 [==============================] - 4s 62ms/step - loss: 0.4536 - accuracy: 0.7900 - val_loss: 0.5417 - val_accuracy: 0.7450\n",
            "Epoch 26/100\n",
            "63/63 [==============================] - 4s 64ms/step - loss: 0.4375 - accuracy: 0.7965 - val_loss: 0.4503 - val_accuracy: 0.7870\n",
            "Epoch 27/100\n",
            "63/63 [==============================] - 6s 85ms/step - loss: 0.4258 - accuracy: 0.7965 - val_loss: 0.4423 - val_accuracy: 0.8000\n",
            "Epoch 28/100\n",
            "63/63 [==============================] - 4s 64ms/step - loss: 0.4252 - accuracy: 0.7990 - val_loss: 0.5556 - val_accuracy: 0.7470\n",
            "Epoch 29/100\n",
            "63/63 [==============================] - 6s 87ms/step - loss: 0.4108 - accuracy: 0.8070 - val_loss: 0.4840 - val_accuracy: 0.7940\n",
            "Epoch 30/100\n",
            "63/63 [==============================] - 6s 92ms/step - loss: 0.4033 - accuracy: 0.8155 - val_loss: 0.4132 - val_accuracy: 0.8120\n",
            "Epoch 31/100\n",
            "63/63 [==============================] - 7s 102ms/step - loss: 0.4149 - accuracy: 0.8155 - val_loss: 0.3903 - val_accuracy: 0.8150\n",
            "Epoch 32/100\n",
            "63/63 [==============================] - 4s 63ms/step - loss: 0.3914 - accuracy: 0.8240 - val_loss: 0.4619 - val_accuracy: 0.7860\n",
            "Epoch 33/100\n",
            "63/63 [==============================] - 5s 82ms/step - loss: 0.3909 - accuracy: 0.8280 - val_loss: 0.5333 - val_accuracy: 0.7810\n",
            "Epoch 34/100\n",
            "63/63 [==============================] - 4s 63ms/step - loss: 0.3790 - accuracy: 0.8310 - val_loss: 0.4304 - val_accuracy: 0.8000\n",
            "Epoch 35/100\n",
            "63/63 [==============================] - 4s 64ms/step - loss: 0.3701 - accuracy: 0.8385 - val_loss: 0.5173 - val_accuracy: 0.7840\n",
            "Epoch 36/100\n",
            "63/63 [==============================] - 5s 84ms/step - loss: 0.3483 - accuracy: 0.8420 - val_loss: 0.4174 - val_accuracy: 0.8290\n",
            "Epoch 37/100\n",
            "63/63 [==============================] - 4s 63ms/step - loss: 0.3373 - accuracy: 0.8495 - val_loss: 0.4573 - val_accuracy: 0.8210\n",
            "Epoch 38/100\n",
            "63/63 [==============================] - 4s 64ms/step - loss: 0.3415 - accuracy: 0.8535 - val_loss: 0.5096 - val_accuracy: 0.8060\n",
            "Epoch 39/100\n",
            "63/63 [==============================] - 5s 66ms/step - loss: 0.3239 - accuracy: 0.8580 - val_loss: 0.4837 - val_accuracy: 0.8320\n",
            "Epoch 40/100\n",
            "63/63 [==============================] - 4s 65ms/step - loss: 0.3445 - accuracy: 0.8535 - val_loss: 0.4053 - val_accuracy: 0.8300\n",
            "Epoch 41/100\n",
            "63/63 [==============================] - 5s 81ms/step - loss: 0.3356 - accuracy: 0.8540 - val_loss: 0.5878 - val_accuracy: 0.7870\n",
            "Epoch 42/100\n",
            "63/63 [==============================] - 4s 64ms/step - loss: 0.3202 - accuracy: 0.8630 - val_loss: 0.4258 - val_accuracy: 0.8360\n",
            "Epoch 43/100\n",
            "63/63 [==============================] - 4s 64ms/step - loss: 0.3211 - accuracy: 0.8635 - val_loss: 0.4023 - val_accuracy: 0.8350\n",
            "Epoch 44/100\n",
            "63/63 [==============================] - 5s 69ms/step - loss: 0.3102 - accuracy: 0.8690 - val_loss: 0.5078 - val_accuracy: 0.8120\n",
            "Epoch 45/100\n",
            "63/63 [==============================] - 4s 62ms/step - loss: 0.2889 - accuracy: 0.8780 - val_loss: 0.4596 - val_accuracy: 0.8190\n",
            "Epoch 46/100\n",
            "63/63 [==============================] - 6s 85ms/step - loss: 0.3175 - accuracy: 0.8690 - val_loss: 0.3908 - val_accuracy: 0.8560\n",
            "Epoch 47/100\n",
            "63/63 [==============================] - 4s 63ms/step - loss: 0.2749 - accuracy: 0.8825 - val_loss: 0.5163 - val_accuracy: 0.8190\n",
            "Epoch 48/100\n",
            "63/63 [==============================] - 4s 66ms/step - loss: 0.2724 - accuracy: 0.8825 - val_loss: 0.4213 - val_accuracy: 0.8430\n",
            "Epoch 49/100\n",
            "63/63 [==============================] - 5s 83ms/step - loss: 0.2858 - accuracy: 0.8850 - val_loss: 0.5142 - val_accuracy: 0.8120\n",
            "Epoch 50/100\n",
            "63/63 [==============================] - 4s 63ms/step - loss: 0.2868 - accuracy: 0.8710 - val_loss: 0.4487 - val_accuracy: 0.8340\n",
            "Epoch 51/100\n",
            "63/63 [==============================] - 7s 103ms/step - loss: 0.2722 - accuracy: 0.8865 - val_loss: 0.3517 - val_accuracy: 0.8540\n",
            "Epoch 52/100\n",
            "63/63 [==============================] - 4s 64ms/step - loss: 0.2644 - accuracy: 0.8890 - val_loss: 0.3750 - val_accuracy: 0.8560\n",
            "Epoch 53/100\n",
            "63/63 [==============================] - 4s 64ms/step - loss: 0.2531 - accuracy: 0.8935 - val_loss: 0.4196 - val_accuracy: 0.8420\n",
            "Epoch 54/100\n",
            "63/63 [==============================] - 6s 84ms/step - loss: 0.2596 - accuracy: 0.8970 - val_loss: 0.4491 - val_accuracy: 0.8500\n",
            "Epoch 55/100\n",
            "63/63 [==============================] - 4s 62ms/step - loss: 0.2279 - accuracy: 0.9065 - val_loss: 0.4420 - val_accuracy: 0.8380\n",
            "Epoch 56/100\n",
            "63/63 [==============================] - 6s 85ms/step - loss: 0.2591 - accuracy: 0.8865 - val_loss: 0.4633 - val_accuracy: 0.8530\n",
            "Epoch 57/100\n",
            "63/63 [==============================] - 4s 62ms/step - loss: 0.2605 - accuracy: 0.9030 - val_loss: 0.4217 - val_accuracy: 0.8460\n",
            "Epoch 58/100\n",
            "63/63 [==============================] - 4s 64ms/step - loss: 0.2354 - accuracy: 0.9065 - val_loss: 0.4019 - val_accuracy: 0.8690\n",
            "Epoch 59/100\n",
            "63/63 [==============================] - 5s 82ms/step - loss: 0.2361 - accuracy: 0.9075 - val_loss: 0.4248 - val_accuracy: 0.8410\n",
            "Epoch 60/100\n",
            "63/63 [==============================] - 4s 61ms/step - loss: 0.2255 - accuracy: 0.9090 - val_loss: 0.4025 - val_accuracy: 0.8610\n",
            "Epoch 61/100\n",
            "63/63 [==============================] - 4s 62ms/step - loss: 0.2429 - accuracy: 0.9050 - val_loss: 0.6485 - val_accuracy: 0.7960\n",
            "Epoch 62/100\n",
            "63/63 [==============================] - 5s 80ms/step - loss: 0.2334 - accuracy: 0.9075 - val_loss: 0.6459 - val_accuracy: 0.7960\n",
            "Epoch 63/100\n",
            "63/63 [==============================] - 4s 63ms/step - loss: 0.2136 - accuracy: 0.9115 - val_loss: 0.4641 - val_accuracy: 0.8560\n",
            "Epoch 64/100\n",
            "63/63 [==============================] - 4s 62ms/step - loss: 0.2215 - accuracy: 0.9090 - val_loss: 0.5211 - val_accuracy: 0.8240\n",
            "Epoch 65/100\n",
            "63/63 [==============================] - 5s 81ms/step - loss: 0.2203 - accuracy: 0.9085 - val_loss: 0.4749 - val_accuracy: 0.8300\n",
            "Epoch 66/100\n",
            "63/63 [==============================] - 4s 63ms/step - loss: 0.2159 - accuracy: 0.9160 - val_loss: 0.5774 - val_accuracy: 0.8270\n",
            "Epoch 67/100\n",
            "63/63 [==============================] - 4s 67ms/step - loss: 0.1974 - accuracy: 0.9240 - val_loss: 0.3536 - val_accuracy: 0.8790\n",
            "Epoch 68/100\n",
            "63/63 [==============================] - 5s 64ms/step - loss: 0.1929 - accuracy: 0.9245 - val_loss: 0.5275 - val_accuracy: 0.8420\n",
            "Epoch 69/100\n",
            "63/63 [==============================] - 4s 64ms/step - loss: 0.1838 - accuracy: 0.9280 - val_loss: 0.4779 - val_accuracy: 0.8300\n",
            "Epoch 70/100\n",
            "63/63 [==============================] - 6s 86ms/step - loss: 0.1956 - accuracy: 0.9285 - val_loss: 0.5811 - val_accuracy: 0.8300\n",
            "Epoch 71/100\n",
            "63/63 [==============================] - 4s 65ms/step - loss: 0.2169 - accuracy: 0.9200 - val_loss: 0.4181 - val_accuracy: 0.8650\n",
            "Epoch 72/100\n",
            "63/63 [==============================] - 5s 68ms/step - loss: 0.1742 - accuracy: 0.9350 - val_loss: 0.4001 - val_accuracy: 0.8770\n",
            "Epoch 73/100\n",
            "63/63 [==============================] - 5s 71ms/step - loss: 0.1779 - accuracy: 0.9280 - val_loss: 0.4117 - val_accuracy: 0.8630\n",
            "Epoch 74/100\n",
            "63/63 [==============================] - 4s 63ms/step - loss: 0.1908 - accuracy: 0.9300 - val_loss: 0.3823 - val_accuracy: 0.8390\n",
            "Epoch 75/100\n",
            "63/63 [==============================] - 5s 83ms/step - loss: 0.1865 - accuracy: 0.9280 - val_loss: 0.3776 - val_accuracy: 0.8780\n",
            "Epoch 76/100\n",
            "63/63 [==============================] - 6s 89ms/step - loss: 0.1835 - accuracy: 0.9340 - val_loss: 0.3918 - val_accuracy: 0.8680\n",
            "Epoch 77/100\n",
            "63/63 [==============================] - 4s 63ms/step - loss: 0.1860 - accuracy: 0.9265 - val_loss: 0.3588 - val_accuracy: 0.8770\n",
            "Epoch 78/100\n",
            "63/63 [==============================] - 5s 81ms/step - loss: 0.1749 - accuracy: 0.9340 - val_loss: 0.4618 - val_accuracy: 0.8740\n",
            "Epoch 79/100\n",
            "63/63 [==============================] - 6s 86ms/step - loss: 0.1859 - accuracy: 0.9325 - val_loss: 0.4378 - val_accuracy: 0.8640\n",
            "Epoch 80/100\n",
            "63/63 [==============================] - 4s 64ms/step - loss: 0.1603 - accuracy: 0.9405 - val_loss: 0.5780 - val_accuracy: 0.8580\n",
            "Epoch 81/100\n",
            "63/63 [==============================] - 7s 106ms/step - loss: 0.1992 - accuracy: 0.9275 - val_loss: 0.5118 - val_accuracy: 0.8470\n",
            "Epoch 82/100\n",
            "63/63 [==============================] - 6s 87ms/step - loss: 0.1609 - accuracy: 0.9405 - val_loss: 0.5285 - val_accuracy: 0.8660\n",
            "Epoch 83/100\n",
            "63/63 [==============================] - 4s 64ms/step - loss: 0.1686 - accuracy: 0.9385 - val_loss: 0.4408 - val_accuracy: 0.8690\n",
            "Epoch 84/100\n",
            "63/63 [==============================] - 4s 63ms/step - loss: 0.1704 - accuracy: 0.9415 - val_loss: 0.4689 - val_accuracy: 0.8710\n",
            "Epoch 85/100\n",
            "63/63 [==============================] - 6s 84ms/step - loss: 0.1635 - accuracy: 0.9380 - val_loss: 0.5993 - val_accuracy: 0.8350\n",
            "Epoch 86/100\n",
            "63/63 [==============================] - 4s 63ms/step - loss: 0.1866 - accuracy: 0.9275 - val_loss: 0.6011 - val_accuracy: 0.8670\n",
            "Epoch 87/100\n",
            "63/63 [==============================] - 4s 65ms/step - loss: 0.1581 - accuracy: 0.9450 - val_loss: 0.5623 - val_accuracy: 0.8570\n",
            "Epoch 88/100\n",
            "63/63 [==============================] - 5s 78ms/step - loss: 0.1544 - accuracy: 0.9425 - val_loss: 0.4769 - val_accuracy: 0.8860\n",
            "Epoch 89/100\n",
            "63/63 [==============================] - 5s 79ms/step - loss: 0.1716 - accuracy: 0.9330 - val_loss: 0.4222 - val_accuracy: 0.8850\n",
            "Epoch 90/100\n",
            "63/63 [==============================] - 4s 65ms/step - loss: 0.1572 - accuracy: 0.9340 - val_loss: 0.7059 - val_accuracy: 0.8450\n",
            "Epoch 91/100\n",
            "63/63 [==============================] - 4s 64ms/step - loss: 0.1523 - accuracy: 0.9370 - val_loss: 0.5217 - val_accuracy: 0.8520\n",
            "Epoch 92/100\n",
            "63/63 [==============================] - 6s 84ms/step - loss: 0.1537 - accuracy: 0.9485 - val_loss: 0.4861 - val_accuracy: 0.8560\n",
            "Epoch 93/100\n",
            "63/63 [==============================] - 4s 64ms/step - loss: 0.1589 - accuracy: 0.9400 - val_loss: 0.5312 - val_accuracy: 0.8620\n",
            "Epoch 94/100\n",
            "63/63 [==============================] - 6s 87ms/step - loss: 0.1652 - accuracy: 0.9405 - val_loss: 0.4527 - val_accuracy: 0.8850\n",
            "Epoch 95/100\n",
            "63/63 [==============================] - 4s 64ms/step - loss: 0.1744 - accuracy: 0.9360 - val_loss: 0.6081 - val_accuracy: 0.8550\n",
            "Epoch 96/100\n",
            "63/63 [==============================] - 4s 65ms/step - loss: 0.1569 - accuracy: 0.9380 - val_loss: 0.5435 - val_accuracy: 0.8770\n",
            "Epoch 97/100\n",
            "63/63 [==============================] - 6s 85ms/step - loss: 0.1537 - accuracy: 0.9460 - val_loss: 0.4655 - val_accuracy: 0.8730\n",
            "Epoch 98/100\n",
            "63/63 [==============================] - 4s 64ms/step - loss: 0.1255 - accuracy: 0.9535 - val_loss: 0.5292 - val_accuracy: 0.8620\n",
            "Epoch 99/100\n",
            "63/63 [==============================] - 6s 86ms/step - loss: 0.1508 - accuracy: 0.9385 - val_loss: 0.4788 - val_accuracy: 0.8820\n",
            "Epoch 100/100\n",
            "63/63 [==============================] - 4s 67ms/step - loss: 0.1550 - accuracy: 0.9475 - val_loss: 0.5435 - val_accuracy: 0.8740\n"
          ]
        }
      ]
    },
    {
      "cell_type": "code",
      "source": [
        "### DRAW GRAPHIC TO SHOW ACCURACY IN TRAIN & TEST DATASETS DATA\n",
        "import matplotlib.pyplot as plt\n",
        "\n",
        "accuracy = history.history[\"accuracy\"]\n",
        "val_accuracy = history.history[\"val_accuracy\"]\n",
        "loss = history.history[\"loss\"]\n",
        "val_loss = history.history[\"val_loss\"]\n",
        "epochs = range(1, len(accuracy) + 1)\n",
        "plt.plot(epochs, accuracy, \"bo\", label=\"Accuracy on Train Phase\")\n",
        "plt.plot(epochs, val_accuracy, \"b\", label=\"Accuracy on Test Phase\")\n",
        "plt.title(\"Accuracy on Train & Test Phase\")\n",
        "plt.legend()\n",
        "plt.figure()\n",
        "plt.plot(epochs, loss, \"bo\", label=\"Loss on Train Phase\")\n",
        "plt.plot(epochs, val_loss, \"b\", label=\"Loss on Test Phase\")\n",
        "plt.title(\"Loss on Train & Test Phase\")\n",
        "plt.legend()\n",
        "plt.show()\n"
      ],
      "metadata": {
        "colab": {
          "base_uri": "https://localhost:8080/",
          "height": 887
        },
        "id": "icvM80K17j3Z",
        "outputId": "a85abc7f-9a55-4d11-edb5-d0a0d21248f8"
      },
      "execution_count": 12,
      "outputs": [
        {
          "output_type": "display_data",
          "data": {
            "text/plain": [
              "<Figure size 640x480 with 1 Axes>"
            ],
            "image/png": "[encoded data removed]"
          },
          "metadata": {}
        },
        {
          "output_type": "display_data",
          "data": {
            "text/plain": [
              "<Figure size 640x480 with 1 Axes>"
            ],
            "image/png": "[encoded data removed]"
          },
          "metadata": {}
        }
      ]
    },
    {
      "cell_type": "code",
      "source": [
        "test_model = keras.models.load_model(\"convnet_from_scratch_with_augmentation.txt\")\n",
        "test_loss, test_acc = test_model.evaluate(test_dataset)\n",
        "print(f\"Test accuracy: {test_acc:.3f}\")"
      ],
      "metadata": {
        "colab": {
          "base_uri": "https://localhost:8080/"
        },
        "id": "YPJCV64yXxs6",
        "outputId": "59fc7da9-db38-4c91-b587-4d3bd283f0cb"
      },
      "execution_count": 13,
      "outputs": [
        {
          "output_type": "stream",
          "name": "stdout",
          "text": [
            "63/63 [==============================] - 3s 33ms/step - loss: 0.4209 - accuracy: 0.8250\n",
            "Test accuracy: 0.825\n"
          ]
        }
      ]
    },
    {
      "cell_type": "code",
      "source": [
        "files.download('convnet_from_scratch_with_augmentation.txt')"
      ],
      "metadata": {
        "colab": {
          "base_uri": "https://localhost:8080/",
          "height": 34
        },
        "id": "W09cjvCx_19o",
        "outputId": "dac6c31d-9d53-4442-e225-194ae4c2d202"
      },
      "execution_count": 14,
      "outputs": [
        {
          "output_type": "display_data",
          "data": {
            "text/plain": [
              "<IPython.core.display.Javascript object>"
            ],
            "application/javascript": [
              "\n",
              "    async function download(id, filename, size) {\n",
              "      if (!google.colab.kernel.accessAllowed) {\n",
              "        return;\n",
              "      }\n",
              "      const div = document.createElement('div');\n",
              "      const label = document.createElement('label');\n",
              "      label.textContent = `Downloading \"${filename}\": `;\n",
              "      div.appendChild(label);\n",
              "      const progress = document.createElement('progress');\n",
              "      progress.max = size;\n",
              "      div.appendChild(progress);\n",
              "      document.body.appendChild(div);\n",
              "\n",
              "      const buffers = [];\n",
              "      let downloaded = 0;\n",
              "\n",
              "      const channel = await google.colab.kernel.comms.open(id);\n",
              "      // Send a message to notify the kernel that we're ready.\n",
              "      channel.send({})\n",
              "\n",
              "      for await (const message of channel.messages) {\n",
              "        // Send a message to notify the kernel that we're ready.\n",
              "        channel.send({})\n",
              "        if (message.buffers) {\n",
              "          for (const buffer of message.buffers) {\n",
              "            buffers.push(buffer);\n",
              "            downloaded += buffer.byteLength;\n",
              "            progress.value = downloaded;\n",
              "          }\n",
              "        }\n",
              "      }\n",
              "      const blob = new Blob(buffers, {type: 'application/binary'});\n",
              "      const a = document.createElement('a');\n",
              "      a.href = window.URL.createObjectURL(blob);\n",
              "      a.download = filename;\n",
              "      div.appendChild(a);\n",
              "      a.click();\n",
              "      div.remove();\n",
              "    }\n",
              "  "
            ]
          },
          "metadata": {}
        },
        {
          "output_type": "display_data",
          "data": {
            "text/plain": [
              "<IPython.core.display.Javascript object>"
            ],
            "application/javascript": [
              "download(\"download_e65fba22-3ce0-4c0c-ad27-3db652007526\", \"convnet_from_scratch_with_augmentation.txt\", 4096)"
            ]
          },
          "metadata": {}
        }
      ]
    },
    {
      "cell_type": "code",
      "source": [
        "model.save(\"conv_model.keras\")"
      ],
      "metadata": {
        "id": "Te9LJdAYAg_h"
      },
      "execution_count": 15,
      "outputs": []
    }
  ]
}