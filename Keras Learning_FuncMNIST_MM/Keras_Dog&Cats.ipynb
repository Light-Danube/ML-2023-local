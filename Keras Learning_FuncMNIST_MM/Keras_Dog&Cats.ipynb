{
  "nbformat": 4,
  "nbformat_minor": 0,
  "metadata": {
    "colab": {
      "provenance": []
    },
    "kernelspec": {
      "name": "python3",
      "display_name": "Python 3"
    },
    "language_info": {
      "name": "python"
    }
  },
  "cells": [
    {
      "cell_type": "code",
      "source": [
        "###PRE TRAINING SETUP"
      ],
      "metadata": {
        "id": "cYnuZaLB0rxu"
      },
      "execution_count": null,
      "outputs": []
    },
    {
      "cell_type": "code",
      "execution_count": 1,
      "metadata": {
        "colab": {
          "base_uri": "https://localhost:8080/",
          "height": 90
        },
        "id": "aBFgr78ZzQZb",
        "outputId": "f8c72e5b-0448-440c-d07d-5a250778c6a5"
      },
      "outputs": [
        {
          "output_type": "display_data",
          "data": {
            "text/plain": [
              "<IPython.core.display.HTML object>"
            ],
            "text/html": [
              "\n",
              "     <input type=\"file\" id=\"files-bec405f0-e1fe-46b1-b3b0-d66198fa0ba9\" name=\"files[]\" multiple disabled\n",
              "        style=\"border:none\" />\n",
              "     <output id=\"result-bec405f0-e1fe-46b1-b3b0-d66198fa0ba9\">\n",
              "      Upload widget is only available when the cell has been executed in the\n",
              "      current browser session. Please rerun this cell to enable.\n",
              "      </output>\n",
              "      <script>// Copyright 2017 Google LLC\n",
              "//\n",
              "// Licensed under the Apache License, Version 2.0 (the \"License\");\n",
              "// you may not use this file except in compliance with the License.\n",
              "// You may obtain a copy of the License at\n",
              "//\n",
              "//      http://www.apache.org/licenses/LICENSE-2.0\n",
              "//\n",
              "// Unless required by applicable law or agreed to in writing, software\n",
              "// distributed under the License is distributed on an \"AS IS\" BASIS,\n",
              "// WITHOUT WARRANTIES OR CONDITIONS OF ANY KIND, either express or implied.\n",
              "// See the License for the specific language governing permissions and\n",
              "// limitations under the License.\n",
              "\n",
              "/**\n",
              " * @fileoverview Helpers for google.colab Python module.\n",
              " */\n",
              "(function(scope) {\n",
              "function span(text, styleAttributes = {}) {\n",
              "  const element = document.createElement('span');\n",
              "  element.textContent = text;\n",
              "  for (const key of Object.keys(styleAttributes)) {\n",
              "    element.style[key] = styleAttributes[key];\n",
              "  }\n",
              "  return element;\n",
              "}\n",
              "\n",
              "// Max number of bytes which will be uploaded at a time.\n",
              "const MAX_PAYLOAD_SIZE = 100 * 1024;\n",
              "\n",
              "function _uploadFiles(inputId, outputId) {\n",
              "  const steps = uploadFilesStep(inputId, outputId);\n",
              "  const outputElement = document.getElementById(outputId);\n",
              "  // Cache steps on the outputElement to make it available for the next call\n",
              "  // to uploadFilesContinue from Python.\n",
              "  outputElement.steps = steps;\n",
              "\n",
              "  return _uploadFilesContinue(outputId);\n",
              "}\n",
              "\n",
              "// This is roughly an async generator (not supported in the browser yet),\n",
              "// where there are multiple asynchronous steps and the Python side is going\n",
              "// to poll for completion of each step.\n",
              "// This uses a Promise to block the python side on completion of each step,\n",
              "// then passes the result of the previous step as the input to the next step.\n",
              "function _uploadFilesContinue(outputId) {\n",
              "  const outputElement = document.getElementById(outputId);\n",
              "  const steps = outputElement.steps;\n",
              "\n",
              "  const next = steps.next(outputElement.lastPromiseValue);\n",
              "  return Promise.resolve(next.value.promise).then((value) => {\n",
              "    // Cache the last promise value to make it available to the next\n",
              "    // step of the generator.\n",
              "    outputElement.lastPromiseValue = value;\n",
              "    return next.value.response;\n",
              "  });\n",
              "}\n",
              "\n",
              "/**\n",
              " * Generator function which is called between each async step of the upload\n",
              " * process.\n",
              " * @param {string} inputId Element ID of the input file picker element.\n",
              " * @param {string} outputId Element ID of the output display.\n",
              " * @return {!Iterable<!Object>} Iterable of next steps.\n",
              " */\n",
              "function* uploadFilesStep(inputId, outputId) {\n",
              "  const inputElement = document.getElementById(inputId);\n",
              "  inputElement.disabled = false;\n",
              "\n",
              "  const outputElement = document.getElementById(outputId);\n",
              "  outputElement.innerHTML = '';\n",
              "\n",
              "  const pickedPromise = new Promise((resolve) => {\n",
              "    inputElement.addEventListener('change', (e) => {\n",
              "      resolve(e.target.files);\n",
              "    });\n",
              "  });\n",
              "\n",
              "  const cancel = document.createElement('button');\n",
              "  inputElement.parentElement.appendChild(cancel);\n",
              "  cancel.textContent = 'Cancel upload';\n",
              "  const cancelPromise = new Promise((resolve) => {\n",
              "    cancel.onclick = () => {\n",
              "      resolve(null);\n",
              "    };\n",
              "  });\n",
              "\n",
              "  // Wait for the user to pick the files.\n",
              "  const files = yield {\n",
              "    promise: Promise.race([pickedPromise, cancelPromise]),\n",
              "    response: {\n",
              "      action: 'starting',\n",
              "    }\n",
              "  };\n",
              "\n",
              "  cancel.remove();\n",
              "\n",
              "  // Disable the input element since further picks are not allowed.\n",
              "  inputElement.disabled = true;\n",
              "\n",
              "  if (!files) {\n",
              "    return {\n",
              "      response: {\n",
              "        action: 'complete',\n",
              "      }\n",
              "    };\n",
              "  }\n",
              "\n",
              "  for (const file of files) {\n",
              "    const li = document.createElement('li');\n",
              "    li.append(span(file.name, {fontWeight: 'bold'}));\n",
              "    li.append(span(\n",
              "        `(${file.type || 'n/a'}) - ${file.size} bytes, ` +\n",
              "        `last modified: ${\n",
              "            file.lastModifiedDate ? file.lastModifiedDate.toLocaleDateString() :\n",
              "                                    'n/a'} - `));\n",
              "    const percent = span('0% done');\n",
              "    li.appendChild(percent);\n",
              "\n",
              "    outputElement.appendChild(li);\n",
              "\n",
              "    const fileDataPromise = new Promise((resolve) => {\n",
              "      const reader = new FileReader();\n",
              "      reader.onload = (e) => {\n",
              "        resolve(e.target.result);\n",
              "      };\n",
              "      reader.readAsArrayBuffer(file);\n",
              "    });\n",
              "    // Wait for the data to be ready.\n",
              "    let fileData = yield {\n",
              "      promise: fileDataPromise,\n",
              "      response: {\n",
              "        action: 'continue',\n",
              "      }\n",
              "    };\n",
              "\n",
              "    // Use a chunked sending to avoid message size limits. See b/62115660.\n",
              "    let position = 0;\n",
              "    do {\n",
              "      const length = Math.min(fileData.byteLength - position, MAX_PAYLOAD_SIZE);\n",
              "      const chunk = new Uint8Array(fileData, position, length);\n",
              "      position += length;\n",
              "\n",
              "      const base64 = btoa(String.fromCharCode.apply(null, chunk));\n",
              "      yield {\n",
              "        response: {\n",
              "          action: 'append',\n",
              "          file: file.name,\n",
              "          data: base64,\n",
              "        },\n",
              "      };\n",
              "\n",
              "      let percentDone = fileData.byteLength === 0 ?\n",
              "          100 :\n",
              "          Math.round((position / fileData.byteLength) * 100);\n",
              "      percent.textContent = `${percentDone}% done`;\n",
              "\n",
              "    } while (position < fileData.byteLength);\n",
              "  }\n",
              "\n",
              "  // All done.\n",
              "  yield {\n",
              "    response: {\n",
              "      action: 'complete',\n",
              "    }\n",
              "  };\n",
              "}\n",
              "\n",
              "scope.google = scope.google || {};\n",
              "scope.google.colab = scope.google.colab || {};\n",
              "scope.google.colab._files = {\n",
              "  _uploadFiles,\n",
              "  _uploadFilesContinue,\n",
              "};\n",
              "})(self);\n",
              "</script> "
            ]
          },
          "metadata": {}
        },
        {
          "output_type": "stream",
          "name": "stdout",
          "text": [
            "Saving kaggle.json to kaggle.json\n"
          ]
        },
        {
          "output_type": "execute_result",
          "data": {
            "text/plain": [
              "{'kaggle.json': b'{\"username\":\"danylosokrut\",\"key\":\"75768029e1c82c4111d9fff1b99600fc\"}'}"
            ]
          },
          "metadata": {},
          "execution_count": 1
        }
      ],
      "source": [
        "from google.colab import files\n",
        "files.upload()"
      ]
    },
    {
      "cell_type": "code",
      "source": [
        "!mkdir ~/.kaggle\n",
        "!cp kaggle.json ~/.kaggle/\n",
        "!chmod 600 ~/.kaggle/kaggle.json"
      ],
      "metadata": {
        "colab": {
          "base_uri": "https://localhost:8080/"
        },
        "id": "zxhR8RDxzvOM",
        "outputId": "5db32c2d-38e1-4471-e0da-c285297c52a2"
      },
      "execution_count": 3,
      "outputs": [
        {
          "output_type": "stream",
          "name": "stdout",
          "text": [
            "mkdir: cannot create directory ‘/root/.kaggle’: File exists\n"
          ]
        }
      ]
    },
    {
      "cell_type": "code",
      "source": [
        "!kaggle competitions download -c dogs-vs-cats\n",
        "!unzip -qq dogs-vs-cats.zip"
      ],
      "metadata": {
        "colab": {
          "base_uri": "https://localhost:8080/"
        },
        "id": "mliUKOu50Q2U",
        "outputId": "45dc59a7-e858-4302-deb9-839cce04480b"
      },
      "execution_count": 8,
      "outputs": [
        {
          "output_type": "stream",
          "name": "stdout",
          "text": [
            "dogs-vs-cats.zip: Skipping, found more recently modified local copy (use --force to force download)\n"
          ]
        }
      ]
    },
    {
      "cell_type": "code",
      "source": [
        "!unzip -qq train.zip"
      ],
      "metadata": {
        "id": "inJvhAjf1ST7"
      },
      "execution_count": 9,
      "outputs": []
    },
    {
      "cell_type": "code",
      "source": [],
      "metadata": {
        "id": "OG9Kk8rX10ve"
      },
      "execution_count": null,
      "outputs": []
    },
    {
      "cell_type": "code",
      "source": [
        "### SETUP DATA FOR TRAINING & TESTING"
      ],
      "metadata": {
        "id": "vktFDabb1VeN"
      },
      "execution_count": null,
      "outputs": []
    },
    {
      "cell_type": "code",
      "source": [
        "import os, shutil, pathlib\n",
        "\n",
        "original_dir = pathlib.Path(\"train\")\n",
        "new_base_dir = pathlib.Path(\"cats_vs_dogs_small\")\n",
        "\n",
        "def make_subset(subset_name, start_index, end_index):\n",
        " for category in (\"cat\", \"dog\"):\n",
        "  dir = new_base_dir / subset_name / category\n",
        "  os.makedirs(dir)\n",
        "  fnames = [f\"{category}.{i}.jpg\"\n",
        "            for i in range(start_index, end_index)]\n",
        "  for fname in fnames:\n",
        "      shutil.copyfile(src=original_dir / fname,\n",
        "                      dst=dir / fname)\n",
        "\n",
        "make_subset(\"train\", start_index=0, end_index=1000)\n",
        "make_subset(\"validation\", start_index=1000, end_index=1500)\n",
        "make_subset(\"test\", start_index=1500, end_index=2500)"
      ],
      "metadata": {
        "id": "IJLn0MGc12F6"
      },
      "execution_count": 11,
      "outputs": []
    },
    {
      "cell_type": "code",
      "source": [],
      "metadata": {
        "id": "rFIsBClp2N3a"
      },
      "execution_count": null,
      "outputs": []
    },
    {
      "cell_type": "code",
      "source": [
        "### Create small convnet for dog & cat classification:\n",
        "from tensorflow import keras\n",
        "from tensorflow.keras import layers\n",
        "\n",
        "inputs = keras.Input(shape=(180, 180, 3))\n",
        "x = layers.Rescaling(1./255)(inputs)\n",
        "x = layers.Conv2D(filters=32, kernel_size=3, activation=\"relu\")(x)\n",
        "x = layers.MaxPooling2D(pool_size=2)(x)\n",
        "x = layers.Conv2D(filters=64, kernel_size=3, activation=\"relu\")(x)\n",
        "x = layers.MaxPooling2D(pool_size=2)(x)\n",
        "x = layers.Conv2D(filters=128, kernel_size=3, activation=\"relu\")(x)\n",
        "x = layers.MaxPooling2D(pool_size=2)(x)\n",
        "x = layers.Conv2D(filters=256, kernel_size=3, activation=\"relu\")(x)\n",
        "x = layers.MaxPooling2D(pool_size=2)(x)\n",
        "x = layers.Conv2D(filters=256, kernel_size=3, activation=\"relu\")(x)\n",
        "x = layers.Flatten()(x)\n",
        "outputs = layers.Dense(1, activation=\"sigmoid\")(x)\n",
        "model = keras.Model(inputs=inputs, outputs=outputs)\n",
        "\n",
        "model.summary()"
      ],
      "metadata": {
        "colab": {
          "base_uri": "https://localhost:8080/"
        },
        "id": "DwKzXk4S3DVv",
        "outputId": "ff31097b-ff90-4b48-b53e-a97496b8243e"
      },
      "execution_count": 12,
      "outputs": [
        {
          "output_type": "stream",
          "name": "stdout",
          "text": [
            "Model: \"model\"\n",
            "_________________________________________________________________\n",
            " Layer (type)                Output Shape              Param #   \n",
            "=================================================================\n",
            " input_1 (InputLayer)        [(None, 180, 180, 3)]     0         \n",
            "                                                                 \n",
            " rescaling (Rescaling)       (None, 180, 180, 3)       0         \n",
            "                                                                 \n",
            " conv2d (Conv2D)             (None, 178, 178, 32)      896       \n",
            "                                                                 \n",
            " max_pooling2d (MaxPooling2  (None, 89, 89, 32)        0         \n",
            " D)                                                              \n",
            "                                                                 \n",
            " conv2d_1 (Conv2D)           (None, 87, 87, 64)        18496     \n",
            "                                                                 \n",
            " max_pooling2d_1 (MaxPoolin  (None, 43, 43, 64)        0         \n",
            " g2D)                                                            \n",
            "                                                                 \n",
            " conv2d_2 (Conv2D)           (None, 41, 41, 128)       73856     \n",
            "                                                                 \n",
            " max_pooling2d_2 (MaxPoolin  (None, 20, 20, 128)       0         \n",
            " g2D)                                                            \n",
            "                                                                 \n",
            " conv2d_3 (Conv2D)           (None, 18, 18, 256)       295168    \n",
            "                                                                 \n",
            " max_pooling2d_3 (MaxPoolin  (None, 9, 9, 256)         0         \n",
            " g2D)                                                            \n",
            "                                                                 \n",
            " conv2d_4 (Conv2D)           (None, 7, 7, 256)         590080    \n",
            "                                                                 \n",
            " flatten (Flatten)           (None, 12544)             0         \n",
            "                                                                 \n",
            " dense (Dense)               (None, 1)                 12545     \n",
            "                                                                 \n",
            "=================================================================\n",
            "Total params: 991041 (3.78 MB)\n",
            "Trainable params: 991041 (3.78 MB)\n",
            "Non-trainable params: 0 (0.00 Byte)\n",
            "_________________________________________________________________\n"
          ]
        }
      ]
    },
    {
      "cell_type": "code",
      "source": [
        "model.compile(loss=\"binary_crossentropy\",\n",
        "    optimizer=\"rmsprop\",\n",
        "    metrics=[\"accuracy\"])"
      ],
      "metadata": {
        "id": "ZGWG2xLt3g3j"
      },
      "execution_count": 13,
      "outputs": []
    },
    {
      "cell_type": "code",
      "source": [
        "###working with image_dataset_from_directory tensorflow.keras function:\n",
        "from tensorflow.keras.utils import image_dataset_from_directory\n",
        "\n",
        "train_dataset = image_dataset_from_directory(\n",
        "    new_base_dir / \"train\",\n",
        "    image_size=(180, 180),\n",
        "    batch_size=32)\n",
        "validation_dataset = image_dataset_from_directory(\n",
        "    new_base_dir / \"validation\",\n",
        "    image_size=(180, 180),\n",
        "    batch_size=32)\n",
        "test_dataset = image_dataset_from_directory(\n",
        "    new_base_dir / \"test\",\n",
        "    image_size=(180, 180),\n",
        "    batch_size=32)\n"
      ],
      "metadata": {
        "colab": {
          "base_uri": "https://localhost:8080/"
        },
        "id": "dY_p3jIu4G8o",
        "outputId": "e90e6aec-2e87-446e-f0f3-f402eed2db41"
      },
      "execution_count": 15,
      "outputs": [
        {
          "output_type": "stream",
          "name": "stdout",
          "text": [
            "Found 2000 files belonging to 2 classes.\n",
            "Found 1000 files belonging to 2 classes.\n",
            "Found 2000 files belonging to 2 classes.\n"
          ]
        }
      ]
    },
    {
      "cell_type": "code",
      "source": [
        "callbacks = [\n",
        "    keras.callbacks.ModelCheckpoint(\n",
        "        filepath=\"convnet_from_scratch.txt\",\n",
        "        save_best_only=True,\n",
        "        monitor=\"val_loss\")\n",
        "    ]\n",
        "\n",
        "history = model.fit(\n",
        "    train_dataset,\n",
        "    epochs=30,\n",
        "    validation_data=validation_dataset,\n",
        "    callbacks=callbacks)"
      ],
      "metadata": {
        "colab": {
          "base_uri": "https://localhost:8080/"
        },
        "id": "atnYbNw_6mZS",
        "outputId": "59005405-a009-4a7d-d0f4-9df1adede6aa"
      },
      "execution_count": 19,
      "outputs": [
        {
          "output_type": "stream",
          "name": "stdout",
          "text": [
            "Epoch 1/30\n",
            "63/63 [==============================] - 195s 3s/step - loss: 0.6764 - accuracy: 0.5845 - val_loss: 0.8308 - val_accuracy: 0.5210\n",
            "Epoch 2/30\n",
            "63/63 [==============================] - 220s 4s/step - loss: 0.6437 - accuracy: 0.6295 - val_loss: 0.6867 - val_accuracy: 0.5540\n",
            "Epoch 3/30\n",
            "63/63 [==============================] - 189s 3s/step - loss: 0.6160 - accuracy: 0.6660 - val_loss: 1.2547 - val_accuracy: 0.5170\n",
            "Epoch 4/30\n",
            "63/63 [==============================] - 188s 3s/step - loss: 0.5863 - accuracy: 0.6905 - val_loss: 0.5772 - val_accuracy: 0.7020\n",
            "Epoch 5/30\n",
            "63/63 [==============================] - 187s 3s/step - loss: 0.5499 - accuracy: 0.7225 - val_loss: 0.6042 - val_accuracy: 0.6690\n",
            "Epoch 6/30\n",
            "63/63 [==============================] - 190s 3s/step - loss: 0.5319 - accuracy: 0.7405 - val_loss: 0.5642 - val_accuracy: 0.7180\n",
            "Epoch 7/30\n",
            "63/63 [==============================] - 174s 3s/step - loss: 0.4895 - accuracy: 0.7645 - val_loss: 0.5617 - val_accuracy: 0.7020\n",
            "Epoch 8/30\n",
            "63/63 [==============================] - 186s 3s/step - loss: 0.4587 - accuracy: 0.7870 - val_loss: 0.5721 - val_accuracy: 0.7240\n",
            "Epoch 9/30\n",
            "63/63 [==============================] - 189s 3s/step - loss: 0.4136 - accuracy: 0.8000 - val_loss: 0.5843 - val_accuracy: 0.7020\n",
            "Epoch 10/30\n",
            "63/63 [==============================] - 191s 3s/step - loss: 0.3837 - accuracy: 0.8260 - val_loss: 0.5744 - val_accuracy: 0.7290\n",
            "Epoch 11/30\n",
            "63/63 [==============================] - 192s 3s/step - loss: 0.3377 - accuracy: 0.8530 - val_loss: 0.5549 - val_accuracy: 0.7450\n",
            "Epoch 12/30\n",
            "63/63 [==============================] - 193s 3s/step - loss: 0.2705 - accuracy: 0.8905 - val_loss: 0.6267 - val_accuracy: 0.7290\n",
            "Epoch 13/30\n",
            "63/63 [==============================] - 193s 3s/step - loss: 0.2303 - accuracy: 0.9040 - val_loss: 0.7399 - val_accuracy: 0.7120\n",
            "Epoch 14/30\n",
            "63/63 [==============================] - 193s 3s/step - loss: 0.1940 - accuracy: 0.9215 - val_loss: 0.7621 - val_accuracy: 0.7480\n",
            "Epoch 15/30\n",
            "63/63 [==============================] - 191s 3s/step - loss: 0.1413 - accuracy: 0.9425 - val_loss: 0.9349 - val_accuracy: 0.7510\n",
            "Epoch 16/30\n",
            "63/63 [==============================] - 174s 3s/step - loss: 0.1323 - accuracy: 0.9530 - val_loss: 0.9370 - val_accuracy: 0.7330\n",
            "Epoch 17/30\n",
            "63/63 [==============================] - 194s 3s/step - loss: 0.0925 - accuracy: 0.9650 - val_loss: 1.1995 - val_accuracy: 0.7400\n",
            "Epoch 18/30\n",
            "63/63 [==============================] - 192s 3s/step - loss: 0.0854 - accuracy: 0.9705 - val_loss: 2.1207 - val_accuracy: 0.6690\n",
            "Epoch 19/30\n",
            "63/63 [==============================] - 197s 3s/step - loss: 0.0894 - accuracy: 0.9705 - val_loss: 1.2704 - val_accuracy: 0.7550\n",
            "Epoch 20/30\n",
            "63/63 [==============================] - 195s 3s/step - loss: 0.0605 - accuracy: 0.9780 - val_loss: 1.2766 - val_accuracy: 0.7500\n",
            "Epoch 21/30\n",
            "63/63 [==============================] - 195s 3s/step - loss: 0.0596 - accuracy: 0.9805 - val_loss: 1.6047 - val_accuracy: 0.6940\n",
            "Epoch 22/30\n",
            "63/63 [==============================] - 194s 3s/step - loss: 0.0881 - accuracy: 0.9770 - val_loss: 1.3385 - val_accuracy: 0.7270\n",
            "Epoch 23/30\n",
            "63/63 [==============================] - 193s 3s/step - loss: 0.0423 - accuracy: 0.9855 - val_loss: 1.6937 - val_accuracy: 0.7310\n",
            "Epoch 24/30\n",
            "63/63 [==============================] - 196s 3s/step - loss: 0.0648 - accuracy: 0.9805 - val_loss: 2.1064 - val_accuracy: 0.6920\n",
            "Epoch 25/30\n",
            "63/63 [==============================] - 196s 3s/step - loss: 0.0564 - accuracy: 0.9850 - val_loss: 1.5595 - val_accuracy: 0.7330\n",
            "Epoch 26/30\n",
            "63/63 [==============================] - 178s 3s/step - loss: 0.0627 - accuracy: 0.9790 - val_loss: 2.1215 - val_accuracy: 0.6940\n",
            "Epoch 27/30\n",
            "63/63 [==============================] - 192s 3s/step - loss: 0.0607 - accuracy: 0.9845 - val_loss: 2.5254 - val_accuracy: 0.7090\n",
            "Epoch 28/30\n",
            "63/63 [==============================] - 193s 3s/step - loss: 0.0439 - accuracy: 0.9890 - val_loss: 2.0022 - val_accuracy: 0.7460\n",
            "Epoch 29/30\n",
            "63/63 [==============================] - 191s 3s/step - loss: 0.0681 - accuracy: 0.9825 - val_loss: 2.1362 - val_accuracy: 0.7340\n",
            "Epoch 30/30\n",
            "63/63 [==============================] - 194s 3s/step - loss: 0.0485 - accuracy: 0.9860 - val_loss: 2.0741 - val_accuracy: 0.7260\n"
          ]
        }
      ]
    },
    {
      "cell_type": "code",
      "source": [
        "### DRAW GRAPHIC TO SHOW ACCURACY IN TRAIN & TEST DATASETS DATA\n",
        "import matplotlib.pyplot as plt\n",
        "\n",
        "accuracy = history.history[\"accuracy\"]\n",
        "val_accuracy = history.history[\"val_accuracy\"]\n",
        "loss = history.history[\"loss\"]\n",
        "val_loss = history.history[\"val_loss\"]\n",
        "epochs = range(1, len(accuracy) + 1)\n",
        "plt.plot(epochs, accuracy, \"bo\", label=\"Accuracy on Train Phase\")\n",
        "plt.plot(epochs, val_accuracy, \"b\", label=\"Accuracy on Test Phase\")\n",
        "plt.title(\"Accuracy on Train & Test Phase\")\n",
        "plt.legend()\n",
        "plt.figure()\n",
        "plt.plot(epochs, loss, \"bo\", label=\"Loss on Train Phase\")\n",
        "plt.plot(epochs, val_loss, \"b\", label=\"Loss on Test Phase\")\n",
        "plt.title(\"Loss on Train & Test Phase\")\n",
        "plt.legend()\n",
        "plt.show()\n"
      ],
      "metadata": {
        "colab": {
          "base_uri": "https://localhost:8080/",
          "height": 887
        },
        "id": "icvM80K17j3Z",
        "outputId": "51cc0aaf-9eeb-4b5e-91ec-d9d4ef36a109"
      },
      "execution_count": 20,
      "outputs": [
        {
          "output_type": "display_data",
          "data": {
            "text/plain": [
              "<Figure size 640x480 with 1 Axes>"
            ],
            "image/png": "[encoded data removed]"
          },
          "metadata": {}
        },
        {
          "output_type": "display_data",
          "data": {
            "text/plain": [
              "<Figure size 640x480 with 1 Axes>"
            ],
            "image/png": "[encoded data removed]"
          },
          "metadata": {}
        }
      ]
    },
    {
      "cell_type": "code",
      "source": [
        "test_model = keras.models.load_model(\"convnet_from_scratch.txt\")\n",
        "test_loss, test_acc = test_model.evaluate(test_dataset)\n",
        "print(f\"Test accuracy: {test_acc:.3f}\")"
      ],
      "metadata": {
        "colab": {
          "base_uri": "https://localhost:8080/"
        },
        "id": "YPJCV64yXxs6",
        "outputId": "e15d8ab1-4edb-4db6-8eb3-0568fdef6ce5"
      },
      "execution_count": 22,
      "outputs": [
        {
          "output_type": "stream",
          "name": "stdout",
          "text": [
            "63/63 [==============================] - 45s 716ms/step - loss: 0.5555 - accuracy: 0.7445\n",
            "Test accuracy: 0.744\n"
          ]
        }
      ]
    }
  ]
}