{
 "cells": [
  {
   "cell_type": "markdown",
   "metadata": {},
   "source": [
    "#  Лабораторна робота №2\n",
    "### навчально-методичний додаток (продовження)\n",
    "***"
   ]
  },
  {
   "cell_type": "markdown",
   "metadata": {},
   "source": [
    "## Структури даних"
   ]
  },
  {
   "cell_type": "markdown",
   "metadata": {},
   "source": [
    "###  Списки - List\n",
    "\n",
    "__Списки__ - це найбільш часто використовувана структура даних. \n",
    "\n",
    "Це послідовність даних, яка укладена у квадратні дужки, а дані відокремлюються комою. До кожного з цих даних можна отримати доступ, викликавши його значення по індексу.\n",
    "Списки оголошуються просто прирівнюючи змінну до '[]' або списку.\n",
    "\n",
    "```spisok = [obj1, obj2, ..., objN]```, де obj - будь-який допустимий python-об'єкт\n",
    "\n",
    "spisok = [1, -0.12, \"Вася\", [42, \"Пупкін\"], False ]\n",
    "\n",
    "[Докладніше про списки в Python](https://devpractice.ru/python-lesson-7-work-with-list/)"
   ]
  },
  {
   "cell_type": "code",
   "execution_count": 1,
   "metadata": {},
   "outputs": [
    {
     "name": "stdout",
     "output_type": "stream",
     "text": [
      "<class 'list'>\n"
     ]
    }
   ],
   "source": [
    "a = []\n",
    "print (type(a))"
   ]
  },
  {
   "cell_type": "markdown",
   "metadata": {},
   "source": [
    "### операції над списками\n",
    "\n",
    "1. ```+``` - __додавання__: приєднує один список до другого\n",
    "2. ```*``` - __множення__ : розшірює список вправо на множник"
   ]
  },
  {
   "cell_type": "code",
   "execution_count": null,
   "metadata": {},
   "outputs": [],
   "source": [
    "a = [1,2,3] + [3, 4]\n",
    "b = a * 2"
   ]
  },
  {
   "cell_type": "code",
   "execution_count": null,
   "metadata": {},
   "outputs": [],
   "source": [
    "print(\"a = \", a)\n",
    "print(\"b = \", b)"
   ]
  },
  {
   "cell_type": "code",
   "execution_count": 2,
   "metadata": {
    "run_control": {
     "marked": false
    }
   },
   "outputs": [
    {
     "name": "stdout",
     "output_type": "stream",
     "text": [
      "1801749776256\n",
      "1801749776256 ['Danylo', 'Sokrut']\n"
     ]
    }
   ],
   "source": [
    "### ЗАВДАННЯ 1: \n",
    "# 1) створити пустий список `i_am`\n",
    "# 2) записати в нього своє ім'я\n",
    "# 3) вивести `id` списка\n",
    "# 4) додати до списка другий елемент з своїм прізвищем\n",
    "# 5) вивести отриманий список то його `id`\n",
    "\n",
    "#ANSWER:\n",
    "i_am = list()\n",
    "i_am.append(\"Danylo\")\n",
    "\n",
    "print(id(i_am))\n",
    "\n",
    "i_am.append(\"Sokrut\")\n",
    "print(id(i_am), i_am)"
   ]
  },
  {
   "cell_type": "markdown",
   "metadata": {},
   "source": [
    "### Особливості зберігання даних в списках\n",
    "\n",
    "Списки - не змінюють свое `id` при зміні значень, або кількості елементів"
   ]
  },
  {
   "cell_type": "markdown",
   "metadata": {},
   "source": [
    "### Індексація в списках\n",
    "\n",
    "__Індексація__ - це метод доступу до окремого єлементу в списку. Елементи в списках нумеруються з 0, а доступ до них здійснюється через номер в квадратних дужках.\n",
    "\n",
    "name = \"Вася Пупкін\"\n",
    "name[5]"
   ]
  },
  {
   "cell_type": "code",
   "execution_count": null,
   "metadata": {
    "scrolled": true
   },
   "outputs": [],
   "source": [
    "n = [1,2,3,4,5]\n",
    "print(n[3], id(n))\n",
    "n[3] = 99999\n",
    "print(n, id(n))"
   ]
  },
  {
   "cell_type": "markdown",
   "metadata": {},
   "source": [
    "Індекси можуть бути відємними"
   ]
  },
  {
   "cell_type": "code",
   "execution_count": null,
   "metadata": {},
   "outputs": [],
   "source": [
    "print(n[-2])\n",
    "n[-2] = 4\n",
    "print(n)"
   ]
  },
  {
   "cell_type": "markdown",
   "metadata": {},
   "source": [
    "#### срізи в списках\n",
    "\n",
    "__Срізи__ - це метод виділення зі списка іншого списка по заданому діапазону індексів\n",
    "\n",
    "spisok[<начало> : <кінець> : <шаг>]"
   ]
  },
  {
   "cell_type": "code",
   "execution_count": 75,
   "metadata": {
    "scrolled": false
   },
   "outputs": [
    {
     "name": "stdout",
     "output_type": "stream",
     "text": [
      "n =  [1, 2, 3, 4, 5]\n",
      "m =  [4, 5]\n",
      "k =  [1, 2, 3, 4]\n",
      "l =  [1, 3, 5]\n"
     ]
    }
   ],
   "source": [
    "n * 2\n",
    "print(\"n = \", n)\n",
    "\n",
    "m = n[3:5]\n",
    "print(\"m = \", m)\n",
    "\n",
    "k = n[:4]\n",
    "print(\"k = \", k)\n",
    "\n",
    "l = n[: : 2]\n",
    "print(\"l = \", l)"
   ]
  },
  {
   "cell_type": "code",
   "execution_count": 14,
   "metadata": {
    "run_control": {
     "marked": false
    }
   },
   "outputs": [
    {
     "name": "stdout",
     "output_type": "stream",
     "text": [
      "[0, 1, 2, 3, 4]\n",
      "[4, 5, 6, 7, 8, 9]\n",
      "[0, 2, 4, 6, 8]\n"
     ]
    }
   ],
   "source": [
    "### ЗАВДАННЯ 3: \n",
    "# 1) створити список із 10 натуральних чисел [1..10]\n",
    "# 2) написати код що виводить перші 5 єлементів\n",
    "# 3) написати код що виводить останні 6 єлементів\n",
    "# 4) написати код що виводить всі парні єлементи\n",
    "\n",
    "#Answer:\n",
    "aa = [x for x in range(10)]\n",
    "\n",
    "b = aa[:5]\n",
    "c = aa[4:]\n",
    "d = aa[::2]\n",
    "\n",
    "print(b)\n",
    "print(c)\n",
    "print(d)"
   ]
  },
  {
   "cell_type": "markdown",
   "metadata": {},
   "source": [
    "#### функції і методи спісків"
   ]
  },
  {
   "cell_type": "code",
   "execution_count": 43,
   "metadata": {},
   "outputs": [
    {
     "name": "stdout",
     "output_type": "stream",
     "text": [
      "[0, 1, 2, 3, 4]\n"
     ]
    }
   ],
   "source": [
    "l = list(range(5))\n",
    "print(l)"
   ]
  },
  {
   "cell_type": "code",
   "execution_count": 49,
   "metadata": {},
   "outputs": [
    {
     "name": "stdout",
     "output_type": "stream",
     "text": [
      "['ArithmeticError', 'AssertionError', 'AttributeError', 'BaseException', 'BlockingIOError', 'BrokenPipeError', 'BufferError', 'BytesWarning', 'ChildProcessError', 'ConnectionAbortedError', 'ConnectionError', 'ConnectionRefusedError', 'ConnectionResetError', 'DeprecationWarning', 'EOFError', 'Ellipsis', 'EnvironmentError', 'Exception', 'False', 'FileExistsError', 'FileNotFoundError', 'FloatingPointError', 'FutureWarning', 'GeneratorExit', 'IOError', 'ImportError', 'ImportWarning', 'IndentationError', 'IndexError', 'InterruptedError', 'IsADirectoryError', 'KeyError', 'KeyboardInterrupt', 'LookupError', 'MemoryError', 'ModuleNotFoundError', 'NameError', 'None', 'NotADirectoryError', 'NotImplemented', 'NotImplementedError', 'OSError', 'OverflowError', 'PendingDeprecationWarning', 'PermissionError', 'ProcessLookupError', 'RecursionError', 'ReferenceError', 'ResourceWarning', 'RuntimeError', 'RuntimeWarning', 'StopAsyncIteration', 'StopIteration', 'SyntaxError', 'SyntaxWarning', 'SystemError', 'SystemExit', 'TabError', 'TimeoutError', 'True', 'TypeError', 'UnboundLocalError', 'UnicodeDecodeError', 'UnicodeEncodeError', 'UnicodeError', 'UnicodeTranslateError', 'UnicodeWarning', 'UserWarning', 'ValueError', 'Warning', 'ZeroDivisionError', '__IPYTHON__', '__build_class__', '__debug__', '__doc__', '__import__', '__loader__', '__name__', '__package__', '__spec__', 'abs', 'all', 'any', 'ascii', 'bin', 'bool', 'breakpoint', 'bytearray', 'bytes', 'callable', 'chr', 'classmethod', 'compile', 'complex', 'copyright', 'credits', 'delattr', 'dict', 'dir', 'display', 'divmod', 'enumerate', 'eval', 'exec', 'filter', 'float', 'format', 'frozenset', 'get_ipython', 'getattr', 'globals', 'hasattr', 'hash', 'help', 'hex', 'id', 'input', 'int', 'isinstance', 'issubclass', 'iter', 'len', 'license', 'list', 'locals', 'map', 'max', 'memoryview', 'min', 'next', 'object', 'oct', 'open', 'ord', 'pow', 'print', 'property', 'range', 'repr', 'reversed', 'round', 'set', 'setattr', 'slice', 'sorted', 'staticmethod', 'str', 'sum', 'super', 'tuple', 'type', 'vars', 'zip']\n"
     ]
    }
   ],
   "source": [
    "print(dir(__builtins__))"
   ]
  },
  {
   "cell_type": "code",
   "execution_count": 50,
   "metadata": {
    "scrolled": true
   },
   "outputs": [
    {
     "name": "stdout",
     "output_type": "stream",
     "text": [
      "['__add__', '__class__', '__contains__', '__delattr__', '__delitem__', '__dir__', '__doc__', '__eq__', '__format__', '__ge__', '__getattribute__', '__getitem__', '__gt__', '__hash__', '__iadd__', '__imul__', '__init__', '__init_subclass__', '__iter__', '__le__', '__len__', '__lt__', '__mul__', '__ne__', '__new__', '__reduce__', '__reduce_ex__', '__repr__', '__reversed__', '__rmul__', '__setattr__', '__setitem__', '__sizeof__', '__str__', '__subclasshook__', 'append', 'clear', 'copy', 'count', 'extend', 'index', 'insert', 'pop', 'remove', 'reverse', 'sort']\n"
     ]
    }
   ],
   "source": [
    "print(dir(list))"
   ]
  },
  {
   "cell_type": "markdown",
   "metadata": {},
   "source": [
    "### вкладені списки"
   ]
  },
  {
   "cell_type": "code",
   "execution_count": null,
   "metadata": {},
   "outputs": [],
   "source": [
    "spisok = [[1, 2], [3, 4]]\n",
    "print (spisok[0])\n",
    "print (spisok[0][1])"
   ]
  },
  {
   "cell_type": "code",
   "execution_count": 17,
   "metadata": {
    "run_control": {
     "marked": false
    }
   },
   "outputs": [
    {
     "name": "stdout",
     "output_type": "stream",
     "text": [
      "[[1, 2, 5], [42, 3, 6], [7, 8, 9]]\n"
     ]
    }
   ],
   "source": [
    "### ЗАВДАННЯ 4: \n",
    "# 1) створити вкладений список [[1,2,3], [4,5,6], [7,8,9]]\n",
    "# 2) написати код що замінює 4-ку на 42\n",
    "# 3) написати код що міняє місцями 3-ку та 5-ку\n",
    "\n",
    "a1 = [[1,2,3], [4, 5, 6], [7, 8, 9]]\n",
    "a1[1][0] = 42\n",
    "a1[0][2] , a1[1][1] = a1[1][1], a1[0][2]\n",
    "print(a1)"
   ]
  },
  {
   "cell_type": "markdown",
   "metadata": {},
   "source": [
    "## Кортежі - tuples"
   ]
  },
  {
   "cell_type": "markdown",
   "metadata": {},
   "source": [
    "__Кортеж__ - це _незмінна_ структура послідовних даних в круглих дужках"
   ]
  },
  {
   "cell_type": "code",
   "execution_count": 26,
   "metadata": {},
   "outputs": [],
   "source": [
    "k = ()    # пустий котреж\n",
    "k1 = (23,) # одноелементний кортеж\n",
    "kn = (1, 2, \"Вася\", [43, 1.2], (55, \"39\"))"
   ]
  },
  {
   "cell_type": "code",
   "execution_count": null,
   "metadata": {},
   "outputs": [],
   "source": []
  },
  {
   "cell_type": "code",
   "execution_count": 28,
   "metadata": {},
   "outputs": [
    {
     "name": "stdout",
     "output_type": "stream",
     "text": [
      "<class 'tuple'>\n"
     ]
    }
   ],
   "source": [
    "print(type(k))"
   ]
  },
  {
   "cell_type": "markdown",
   "metadata": {},
   "source": [
    "#### відмінність від списків"
   ]
  },
  {
   "cell_type": "code",
   "execution_count": 36,
   "metadata": {},
   "outputs": [
    {
     "name": "stdout",
     "output_type": "stream",
     "text": [
      "56\n",
      "40\n"
     ]
    }
   ],
   "source": [
    "l = [1, 2]\n",
    "k = (1, 2)\n",
    "print(l.__sizeof__())\n",
    "print(k.__sizeof__())"
   ]
  },
  {
   "cell_type": "code",
   "execution_count": 24,
   "metadata": {
    "scrolled": true
   },
   "outputs": [
    {
     "name": "stdout",
     "output_type": "stream",
     "text": [
      "[1, 2] 4532933008\n",
      "[1, 2, 3] 4532933008\n"
     ]
    }
   ],
   "source": [
    "print (l, id(l))\n",
    "l += [3]\n",
    "print (l, id(l))"
   ]
  },
  {
   "cell_type": "code",
   "execution_count": 25,
   "metadata": {
    "scrolled": true
   },
   "outputs": [
    {
     "name": "stdout",
     "output_type": "stream",
     "text": [
      "(1, 2) 4529662304\n",
      "(1, 2, 3) 4531036640\n"
     ]
    }
   ],
   "source": [
    "print (k, id(k))\n",
    "k += (3,)\n",
    "print (k, id(k))"
   ]
  },
  {
   "cell_type": "code",
   "execution_count": 29,
   "metadata": {},
   "outputs": [
    {
     "name": "stdout",
     "output_type": "stream",
     "text": [
      "[1, 2, 3, 4]\n"
     ]
    }
   ],
   "source": [
    "l.append(4)\n",
    "print(l)"
   ]
  }
 ],
 "metadata": {
  "kernelspec": {
   "display_name": "Python 3 (ipykernel)",
   "language": "python",
   "name": "python3"
  },
  "language_info": {
   "codemirror_mode": {
    "name": "ipython",
    "version": 3
   },
   "file_extension": ".py",
   "mimetype": "text/x-python",
   "name": "python",
   "nbconvert_exporter": "python",
   "pygments_lexer": "ipython3",
   "version": "3.9.13"
  }
 },
 "nbformat": 4,
 "nbformat_minor": 2
}
