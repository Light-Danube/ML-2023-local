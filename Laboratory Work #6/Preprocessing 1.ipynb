{
 "cells": [
  {
   "cell_type": "markdown",
   "id": "400680a4",
   "metadata": {},
   "source": [
    "# ЛАБОРАТОРНА РОБОТА  \n",
    "\n",
    "## \"Алгоритми та моделі перетворення даних\"\n",
    "\n",
    "__Метою__ лабораторної роботи є набуття практичних навичок використання модулів бібліотеки `Scikit-learn` для вирішення наступних задач:\n",
    "\n",
    "- визначення та розподілення данних по їх типам\n",
    "- вибір та застосування алгоритмів перетворення різноманітних типів даних\n",
    "- настроювання параметрів та застосування трансформерів\n",
    "- побудова конвеєра для автоматизації процесів трансформації даних\n",
    "\n",
    "__Результатом__ виконання лабораторної роботи повинен стати датасет, в якому колонки з покажчиком перетворені під для навчання моделей"
   ]
  },
  {
   "cell_type": "code",
   "execution_count": 1,
   "id": "50098a89",
   "metadata": {},
   "outputs": [],
   "source": [
    "# імпортувати бібліотеки pandas та numpy\n",
    "import pandas as pd\n",
    "import numpy as np"
   ]
  },
  {
   "cell_type": "markdown",
   "id": "306ace06",
   "metadata": {},
   "source": [
    "## Завдання\n",
    "\n",
    "Вхідним датасетом є csv-файл, отриманий в результаті виконання лабораторної роботи по конструюванню та очищеню покажчиків даних про продажі квартир рієлторської компанії.\n",
    "\n",
    "<h4 style='background-color:cyan; color:red; padding:15px'><ul>\n",
    "    <li>замість `...` вписуйте Ваш програмний код\n",
    "    <li>не змінюйте імена запропонованих зміних\n",
    "    </ul>\n",
    "</h4>"
   ]
  },
  {
   "cell_type": "code",
   "execution_count": 14,
   "id": "4428c2d4",
   "metadata": {},
   "outputs": [
    {
     "data": {
      "text/html": [
       "<div>\n",
       "<style scoped>\n",
       "    .dataframe tbody tr th:only-of-type {\n",
       "        vertical-align: middle;\n",
       "    }\n",
       "\n",
       "    .dataframe tbody tr th {\n",
       "        vertical-align: top;\n",
       "    }\n",
       "\n",
       "    .dataframe thead th {\n",
       "        text-align: right;\n",
       "    }\n",
       "</style>\n",
       "<table border=\"1\" class=\"dataframe\">\n",
       "  <thead>\n",
       "    <tr style=\"text-align: right;\">\n",
       "      <th></th>\n",
       "      <th>Price</th>\n",
       "      <th>rooms</th>\n",
       "      <th>price_per_m2</th>\n",
       "      <th>level</th>\n",
       "      <th>levels</th>\n",
       "      <th>year</th>\n",
       "      <th>area_total</th>\n",
       "      <th>area_living</th>\n",
       "      <th>area_kitchen</th>\n",
       "      <th>street</th>\n",
       "      <th>district</th>\n",
       "      <th>area_comfort</th>\n",
       "    </tr>\n",
       "  </thead>\n",
       "  <tbody>\n",
       "    <tr>\n",
       "      <th>0</th>\n",
       "      <td>30970.0</td>\n",
       "      <td>1.0</td>\n",
       "      <td>1106.0</td>\n",
       "      <td>12.0</td>\n",
       "      <td>13.0</td>\n",
       "      <td>2013.0</td>\n",
       "      <td>28.0</td>\n",
       "      <td>13.0</td>\n",
       "      <td>5.0</td>\n",
       "      <td>Петропавлівська</td>\n",
       "      <td>Оболонський</td>\n",
       "      <td>10.0</td>\n",
       "    </tr>\n",
       "    <tr>\n",
       "      <th>1</th>\n",
       "      <td>82000.0</td>\n",
       "      <td>2.0</td>\n",
       "      <td>1281.0</td>\n",
       "      <td>18.0</td>\n",
       "      <td>26.0</td>\n",
       "      <td>2009.0</td>\n",
       "      <td>64.0</td>\n",
       "      <td>37.0</td>\n",
       "      <td>14.0</td>\n",
       "      <td>Дніпровська</td>\n",
       "      <td>Оболонський</td>\n",
       "      <td>13.0</td>\n",
       "    </tr>\n",
       "    <tr>\n",
       "      <th>2</th>\n",
       "      <td>135000.0</td>\n",
       "      <td>2.0</td>\n",
       "      <td>2077.0</td>\n",
       "      <td>16.0</td>\n",
       "      <td>23.0</td>\n",
       "      <td>2012.0</td>\n",
       "      <td>65.0</td>\n",
       "      <td>25.0</td>\n",
       "      <td>18.0</td>\n",
       "      <td>Дніпровська</td>\n",
       "      <td>Оболонський</td>\n",
       "      <td>22.0</td>\n",
       "    </tr>\n",
       "    <tr>\n",
       "      <th>3</th>\n",
       "      <td>84000.0</td>\n",
       "      <td>2.0</td>\n",
       "      <td>1273.0</td>\n",
       "      <td>6.0</td>\n",
       "      <td>26.0</td>\n",
       "      <td>2009.0</td>\n",
       "      <td>66.0</td>\n",
       "      <td>37.0</td>\n",
       "      <td>18.0</td>\n",
       "      <td>Дніпровська</td>\n",
       "      <td>Оболонський</td>\n",
       "      <td>11.0</td>\n",
       "    </tr>\n",
       "    <tr>\n",
       "      <th>4</th>\n",
       "      <td>60000.0</td>\n",
       "      <td>1.0</td>\n",
       "      <td>1463.0</td>\n",
       "      <td>2.0</td>\n",
       "      <td>26.0</td>\n",
       "      <td>2009.0</td>\n",
       "      <td>41.0</td>\n",
       "      <td>37.0</td>\n",
       "      <td>14.0</td>\n",
       "      <td>Дніпровська</td>\n",
       "      <td>Оболонський</td>\n",
       "      <td>0.0</td>\n",
       "    </tr>\n",
       "  </tbody>\n",
       "</table>\n",
       "</div>"
      ],
      "text/plain": [
       "      Price  rooms  price_per_m2  level  levels    year  area_total  \\\n",
       "0   30970.0    1.0        1106.0   12.0    13.0  2013.0        28.0   \n",
       "1   82000.0    2.0        1281.0   18.0    26.0  2009.0        64.0   \n",
       "2  135000.0    2.0        2077.0   16.0    23.0  2012.0        65.0   \n",
       "3   84000.0    2.0        1273.0    6.0    26.0  2009.0        66.0   \n",
       "4   60000.0    1.0        1463.0    2.0    26.0  2009.0        41.0   \n",
       "\n",
       "   area_living  area_kitchen           street     district  area_comfort  \n",
       "0         13.0           5.0  Петропавлівська  Оболонський          10.0  \n",
       "1         37.0          14.0      Дніпровська  Оболонський          13.0  \n",
       "2         25.0          18.0      Дніпровська  Оболонський          22.0  \n",
       "3         37.0          18.0      Дніпровська  Оболонський          11.0  \n",
       "4         37.0          14.0      Дніпровська  Оболонський           0.0  "
      ]
     },
     "execution_count": 14,
     "metadata": {},
     "output_type": "execute_result"
    }
   ],
   "source": [
    "# ззчитати підготовлений датасет `apartments_clean.csv` в датафрейм та проінспектувати його стан\n",
    "data = pd.read_csv(\"apartments_clean.csv\")\n",
    "data.head()"
   ]
  },
  {
   "cell_type": "markdown",
   "id": "9657db97",
   "metadata": {
    "heading_collapsed": true
   },
   "source": [
    "## 1. Визначення типів покажчиків вхідного датасету"
   ]
  },
  {
   "cell_type": "code",
   "execution_count": 15,
   "id": "fb9d7753",
   "metadata": {
    "hidden": true
   },
   "outputs": [],
   "source": [
    "# відокремити від робочого датасету колонку з цільовим показчиком (`Price`) \n",
    "# та вилучити її з обробки\n",
    "target = data['Price']\n",
    "data = data.drop(['Price'], axis=1)"
   ]
  },
  {
   "cell_type": "code",
   "execution_count": 16,
   "id": "dbb005f1",
   "metadata": {
    "hidden": true
   },
   "outputs": [
    {
     "data": {
      "text/plain": [
       "((376,), (376, 11))"
      ]
     },
     "execution_count": 16,
     "metadata": {},
     "output_type": "execute_result"
    }
   ],
   "source": [
    "# для самоперевірки: кількисть рядків в датасетах повинна співпадати!\n",
    "target.shape, data.shape"
   ]
  },
  {
   "cell_type": "code",
   "execution_count": 17,
   "id": "ae23f321",
   "metadata": {
    "hidden": true
   },
   "outputs": [],
   "source": [
    "# імпортувати з sklearn модуль, що відповідає за селективний відбір покажчиків\n",
    "from sklearn.compose import make_column_selector as select"
   ]
  },
  {
   "cell_type": "code",
   "execution_count": 19,
   "id": "652f0ba2",
   "metadata": {
    "hidden": true
   },
   "outputs": [],
   "source": [
    "# побудувати  селектори для вібіру числових та категоріальних колонок\n",
    "numeric_selector = select(dtype_include = np.number)\n",
    "category_selector = select(dtype_include = 'object')"
   ]
  },
  {
   "cell_type": "code",
   "execution_count": 20,
   "id": "a673dde6",
   "metadata": {
    "hidden": true
   },
   "outputs": [
    {
     "name": "stdout",
     "output_type": "stream",
     "text": [
      "список числових покажчиків = ['rooms', 'price_per_m2', 'level', 'levels', 'year', 'area_total', 'area_living', 'area_kitchen', 'area_comfort']\n",
      "список категоріальних покажчиків = ['street', 'district']\n"
     ]
    }
   ],
   "source": [
    "# застосувати побудовані селектори для створення списків числових та категоріальних показчиків\n",
    "numeric_data_columns = numeric_selector(data)\n",
    "category_data_columns = category_selector(data)\n",
    "\n",
    "print(f'список числових покажчиків = {numeric_data_columns}')\n",
    "print(f'список категоріальних покажчиків = {category_data_columns}')"
   ]
  },
  {
   "cell_type": "code",
   "execution_count": 21,
   "id": "6ecaeec9",
   "metadata": {
    "hidden": true
   },
   "outputs": [
    {
     "data": {
      "text/plain": [
       "((376, 9), (376, 2))"
      ]
     },
     "execution_count": 21,
     "metadata": {},
     "output_type": "execute_result"
    }
   ],
   "source": [
    "# створити 2 окремі датасети: числовий та категоріальний та вивести їх основні властивості\n",
    "data_numeric = data[numeric_data_columns]\n",
    "data_category = data[category_data_columns]\n",
    "\n",
    "data_numeric.shape, data_category.shape"
   ]
  },
  {
   "cell_type": "markdown",
   "id": "6702f1f4",
   "metadata": {},
   "source": [
    "## 2. Маштабування числових та категоріальних колонок"
   ]
  },
  {
   "cell_type": "markdown",
   "id": "73613dc5",
   "metadata": {
    "heading_collapsed": true
   },
   "source": [
    "### 2.1. Маштабування числових показчиків"
   ]
  },
  {
   "cell_type": "code",
   "execution_count": 22,
   "id": "17349145",
   "metadata": {
    "hidden": true
   },
   "outputs": [],
   "source": [
    "# з модуля `preprocessing` імпортувати нормалізатор 'MinMaxScaler' та стандартизатор 'StandardScaler'\n",
    "from sklearn.preprocessing import MinMaxScaler, StandardScaler"
   ]
  },
  {
   "cell_type": "code",
   "execution_count": 23,
   "id": "6fc56713",
   "metadata": {
    "hidden": true
   },
   "outputs": [],
   "source": [
    "# створити відповідні маштабувачі\n",
    "standart_scaler = StandardScaler()\n",
    "min_max_scaler = MinMaxScaler()"
   ]
  },
  {
   "cell_type": "code",
   "execution_count": 24,
   "id": "0f4a23e6",
   "metadata": {
    "hidden": true
   },
   "outputs": [],
   "source": [
    "# побудувати змаштабовані датасети за двома стратегіями: стандартизація та нормалізація\n",
    "data_numeric_std = standart_scaler.fit_transform(data_numeric)\n",
    "data_numeric_min_max= min_max_scaler.fit_transform(data_numeric)"
   ]
  },
  {
   "cell_type": "code",
   "execution_count": 25,
   "id": "343c666c",
   "metadata": {
    "hidden": true
   },
   "outputs": [
    {
     "data": {
      "text/plain": [
       "<AxesSubplot:title={'center':'data_numeric_min_max'}, ylabel='Frequency'>"
      ]
     },
     "execution_count": 25,
     "metadata": {},
     "output_type": "execute_result"
    },
    {
     "data": {
      "image/png": "[encoded data removed]",
      "text/plain": [
       "<Figure size 600x300 with 1 Axes>"
      ]
     },
     "metadata": {},
     "output_type": "display_data"
    },
    {
     "data": {
      "image/png": "[encoded data removed]",
      "text/plain": [
       "<Figure size 600x300 with 1 Axes>"
      ]
     },
     "metadata": {},
     "output_type": "display_data"
    }
   ],
   "source": [
    "# побудувати графіки розподілення значень показчиків при\n",
    "# стандартном та нормалізованом маштабуванні\n",
    "\n",
    "#Histograph for data_numeric_std:\n",
    "pd.DataFrame(data_numeric_std).plot(kind='hist', \n",
    "                                    color='red', \n",
    "                                    title='data_numeric_std', \n",
    "                                    figsize=[6,3], \n",
    "                                    width=1.5, \n",
    "                                    legend=False)\n",
    "#Histograph for data_numeric_min_max:\n",
    "pd.DataFrame(data_numeric_min_max).plot(kind='hist', \n",
    "                                        color='blue', \n",
    "                                        title='data_numeric_min_max', \n",
    "                                        figsize=[6,3], \n",
    "                                        width=0.05, \n",
    "                                        legend=False)"
   ]
  },
  {
   "cell_type": "markdown",
   "id": "3813999f",
   "metadata": {
    "hidden": true
   },
   "source": [
    "#####  __проаналізувати графіки та визначись який маштабувач краще підходить до числовї підмножини робочого датасету__\n",
    "\n",
    "#### Відповідь:\n",
    "На мою думку, у данному випадку краще підходить масштабувач MinMax, оскільки нам відоме приблизне мінімальне та максимальне значення числової підмножини робочого датасету, що дозволяя побудувати нормально розподілений графік даних, не викликаючи сильного спотворення даних."
   ]
  },
  {
   "cell_type": "markdown",
   "id": "b76b10d8",
   "metadata": {
    "heading_collapsed": true
   },
   "source": [
    "### 2.1. Маштабування категоріальних показчиків"
   ]
  },
  {
   "cell_type": "code",
   "execution_count": 26,
   "id": "8f404fef",
   "metadata": {
    "hidden": true
   },
   "outputs": [],
   "source": [
    "# з модуля `preporcessing` імпортувати кодувальники 'OrdinalEncoder' та 'OneHotEncoder'\n",
    "from sklearn.preprocessing import OrdinalEncoder, OneHotEncoder"
   ]
  },
  {
   "cell_type": "code",
   "execution_count": 27,
   "id": "9118d4ce",
   "metadata": {
    "hidden": true
   },
   "outputs": [],
   "source": [
    "# проаналізувати категоріальні показчики та визначитись до якого показчика\n",
    "# який енкодер доцільно застосовувати\n",
    "\n",
    "\n",
    "###\n",
    "#У робочому датасеті наявно лише 2 категоріальних показчика: district, street.\n",
    "#Для доречного кодування категоріального показчика \"район\" доцільно використати OrdinalEncoder, оскільки не має суттєвої різниці\n",
    "# яку \"вагу\" має Оболоньский чи Голосіїєвскьий район - вони рівнозначні у даному датасеті, та послідвность не грає ніякої ролі;\n",
    "#В свою-ж чергу для категоріального показчика \"вулиця\" доречно використати OneHotEncoder\n",
    "###"
   ]
  },
  {
   "cell_type": "code",
   "execution_count": 29,
   "id": "b70c4794",
   "metadata": {
    "hidden": true
   },
   "outputs": [],
   "source": [
    "# створити енкодери та закодувати ними відповідні категоріальні колонки\n",
    "ordinal_encoder = OrdinalEncoder().fit_transform(data_category[['district']])\n",
    "one_hot_encoder = OneHotEncoder(sparse_output=False).fit_transform(data_category[['street']])"
   ]
  },
  {
   "cell_type": "markdown",
   "id": "bb506c75",
   "metadata": {
    "heading_collapsed": true
   },
   "source": [
    "## 3. Побудова трансформера для підготовки даних"
   ]
  },
  {
   "cell_type": "code",
   "execution_count": 30,
   "id": "7c6c1930",
   "metadata": {
    "hidden": true
   },
   "outputs": [],
   "source": [
    "# з модуля `compose` імпортувати трансформер колонок `ColumnTransformer`\n",
    "from sklearn.compose import ColumnTransformer"
   ]
  },
  {
   "cell_type": "code",
   "execution_count": 31,
   "id": "2605b0c2",
   "metadata": {
    "hidden": true
   },
   "outputs": [
    {
     "name": "stdout",
     "output_type": "stream",
     "text": [
      "ColumnTransformer(transformers=[('ordinal_encoder', OrdinalEncoder(),\n",
      "                                 ['district']),\n",
      "                                ('one_hot_encoder',\n",
      "                                 OneHotEncoder(sparse_output=False),\n",
      "                                 ['street']),\n",
      "                                ('numeric_encoder', MinMaxScaler(),\n",
      "                                 ['rooms', 'price_per_m2', 'level', 'levels',\n",
      "                                  'year', 'area_total', 'area_living',\n",
      "                                  'area_kitchen', 'area_comfort'])])\n"
     ]
    }
   ],
   "source": [
    "# побудувати трансформер для предобробки числових та категоріальних показчиків\n",
    "# робочого датасету\n",
    "transformer = ColumnTransformer([('ordinal_encoder', OrdinalEncoder(), ['district']),\n",
    "                                 ('one_hot_encoder', OneHotEncoder(sparse_output=False), ['street']),\n",
    "                                 ('numeric_encoder', min_max_scaler, numeric_data_columns)\n",
    "                                ])\n",
    "print(transformer)"
   ]
  },
  {
   "cell_type": "code",
   "execution_count": 32,
   "id": "2375ade7",
   "metadata": {
    "code_folding": [],
    "hidden": true
   },
   "outputs": [
    {
     "data": {
      "text/plain": [
       "(376, 174)"
      ]
     },
     "execution_count": 32,
     "metadata": {},
     "output_type": "execute_result"
    }
   ],
   "source": [
    "# отримати вихідний масив застосував трансфомер до вхідного датасуту\n",
    "data_transformed = transformer.fit_transform(data)\n",
    "data_transformed.shape"
   ]
  },
  {
   "cell_type": "code",
   "execution_count": 34,
   "id": "4ea575ba",
   "metadata": {
    "hidden": true
   },
   "outputs": [
    {
     "data": {
      "text/html": [
       "<div>\n",
       "<style scoped>\n",
       "    .dataframe tbody tr th:only-of-type {\n",
       "        vertical-align: middle;\n",
       "    }\n",
       "\n",
       "    .dataframe tbody tr th {\n",
       "        vertical-align: top;\n",
       "    }\n",
       "\n",
       "    .dataframe thead th {\n",
       "        text-align: right;\n",
       "    }\n",
       "</style>\n",
       "<table border=\"1\" class=\"dataframe\">\n",
       "  <thead>\n",
       "    <tr style=\"text-align: right;\">\n",
       "      <th></th>\n",
       "      <th>Price</th>\n",
       "      <th>ordinal_encoder__district</th>\n",
       "      <th>one_hot_encoder__street_Інститутська</th>\n",
       "      <th>one_hot_encoder__street_Іскрівська</th>\n",
       "      <th>one_hot_encoder__street_Автозаводська</th>\n",
       "      <th>one_hot_encoder__street_Азербайджанська</th>\n",
       "      <th>one_hot_encoder__street_Антоновича</th>\n",
       "      <th>one_hot_encoder__street_Багговутівська</th>\n",
       "      <th>one_hot_encoder__street_Балтійський</th>\n",
       "      <th>one_hot_encoder__street_Басейна</th>\n",
       "      <th>...</th>\n",
       "      <th>one_hot_encoder__street_Ясинуватський</th>\n",
       "      <th>numeric_encoder__rooms</th>\n",
       "      <th>numeric_encoder__price_per_m2</th>\n",
       "      <th>numeric_encoder__level</th>\n",
       "      <th>numeric_encoder__levels</th>\n",
       "      <th>numeric_encoder__year</th>\n",
       "      <th>numeric_encoder__area_total</th>\n",
       "      <th>numeric_encoder__area_living</th>\n",
       "      <th>numeric_encoder__area_kitchen</th>\n",
       "      <th>numeric_encoder__area_comfort</th>\n",
       "    </tr>\n",
       "  </thead>\n",
       "  <tbody>\n",
       "    <tr>\n",
       "      <th>0</th>\n",
       "      <td>30970.0</td>\n",
       "      <td>11.0</td>\n",
       "      <td>0.0</td>\n",
       "      <td>0.0</td>\n",
       "      <td>0.0</td>\n",
       "      <td>0.0</td>\n",
       "      <td>0.0</td>\n",
       "      <td>0.0</td>\n",
       "      <td>0.0</td>\n",
       "      <td>0.0</td>\n",
       "      <td>...</td>\n",
       "      <td>0.0</td>\n",
       "      <td>0.000000</td>\n",
       "      <td>0.002464</td>\n",
       "      <td>0.34375</td>\n",
       "      <td>0.323529</td>\n",
       "      <td>0.936508</td>\n",
       "      <td>0.008000</td>\n",
       "      <td>0.009677</td>\n",
       "      <td>0.026667</td>\n",
       "      <td>0.033445</td>\n",
       "    </tr>\n",
       "    <tr>\n",
       "      <th>1</th>\n",
       "      <td>82000.0</td>\n",
       "      <td>11.0</td>\n",
       "      <td>0.0</td>\n",
       "      <td>0.0</td>\n",
       "      <td>0.0</td>\n",
       "      <td>0.0</td>\n",
       "      <td>0.0</td>\n",
       "      <td>0.0</td>\n",
       "      <td>0.0</td>\n",
       "      <td>0.0</td>\n",
       "      <td>...</td>\n",
       "      <td>0.0</td>\n",
       "      <td>0.166667</td>\n",
       "      <td>0.003583</td>\n",
       "      <td>0.53125</td>\n",
       "      <td>0.705882</td>\n",
       "      <td>0.904762</td>\n",
       "      <td>0.104000</td>\n",
       "      <td>0.087097</td>\n",
       "      <td>0.146667</td>\n",
       "      <td>0.043478</td>\n",
       "    </tr>\n",
       "    <tr>\n",
       "      <th>2</th>\n",
       "      <td>135000.0</td>\n",
       "      <td>11.0</td>\n",
       "      <td>0.0</td>\n",
       "      <td>0.0</td>\n",
       "      <td>0.0</td>\n",
       "      <td>0.0</td>\n",
       "      <td>0.0</td>\n",
       "      <td>0.0</td>\n",
       "      <td>0.0</td>\n",
       "      <td>0.0</td>\n",
       "      <td>...</td>\n",
       "      <td>0.0</td>\n",
       "      <td>0.166667</td>\n",
       "      <td>0.008677</td>\n",
       "      <td>0.46875</td>\n",
       "      <td>0.617647</td>\n",
       "      <td>0.928571</td>\n",
       "      <td>0.106667</td>\n",
       "      <td>0.048387</td>\n",
       "      <td>0.200000</td>\n",
       "      <td>0.073579</td>\n",
       "    </tr>\n",
       "    <tr>\n",
       "      <th>3</th>\n",
       "      <td>84000.0</td>\n",
       "      <td>11.0</td>\n",
       "      <td>0.0</td>\n",
       "      <td>0.0</td>\n",
       "      <td>0.0</td>\n",
       "      <td>0.0</td>\n",
       "      <td>0.0</td>\n",
       "      <td>0.0</td>\n",
       "      <td>0.0</td>\n",
       "      <td>0.0</td>\n",
       "      <td>...</td>\n",
       "      <td>0.0</td>\n",
       "      <td>0.166667</td>\n",
       "      <td>0.003532</td>\n",
       "      <td>0.15625</td>\n",
       "      <td>0.705882</td>\n",
       "      <td>0.904762</td>\n",
       "      <td>0.109333</td>\n",
       "      <td>0.087097</td>\n",
       "      <td>0.200000</td>\n",
       "      <td>0.036789</td>\n",
       "    </tr>\n",
       "    <tr>\n",
       "      <th>4</th>\n",
       "      <td>60000.0</td>\n",
       "      <td>11.0</td>\n",
       "      <td>0.0</td>\n",
       "      <td>0.0</td>\n",
       "      <td>0.0</td>\n",
       "      <td>0.0</td>\n",
       "      <td>0.0</td>\n",
       "      <td>0.0</td>\n",
       "      <td>0.0</td>\n",
       "      <td>0.0</td>\n",
       "      <td>...</td>\n",
       "      <td>0.0</td>\n",
       "      <td>0.000000</td>\n",
       "      <td>0.004748</td>\n",
       "      <td>0.03125</td>\n",
       "      <td>0.705882</td>\n",
       "      <td>0.904762</td>\n",
       "      <td>0.042667</td>\n",
       "      <td>0.087097</td>\n",
       "      <td>0.146667</td>\n",
       "      <td>0.000000</td>\n",
       "    </tr>\n",
       "    <tr>\n",
       "      <th>...</th>\n",
       "      <td>...</td>\n",
       "      <td>...</td>\n",
       "      <td>...</td>\n",
       "      <td>...</td>\n",
       "      <td>...</td>\n",
       "      <td>...</td>\n",
       "      <td>...</td>\n",
       "      <td>...</td>\n",
       "      <td>...</td>\n",
       "      <td>...</td>\n",
       "      <td>...</td>\n",
       "      <td>...</td>\n",
       "      <td>...</td>\n",
       "      <td>...</td>\n",
       "      <td>...</td>\n",
       "      <td>...</td>\n",
       "      <td>...</td>\n",
       "      <td>...</td>\n",
       "      <td>...</td>\n",
       "      <td>...</td>\n",
       "      <td>...</td>\n",
       "    </tr>\n",
       "    <tr>\n",
       "      <th>371</th>\n",
       "      <td>42900.0</td>\n",
       "      <td>18.0</td>\n",
       "      <td>0.0</td>\n",
       "      <td>1.0</td>\n",
       "      <td>0.0</td>\n",
       "      <td>0.0</td>\n",
       "      <td>0.0</td>\n",
       "      <td>0.0</td>\n",
       "      <td>0.0</td>\n",
       "      <td>0.0</td>\n",
       "      <td>...</td>\n",
       "      <td>0.0</td>\n",
       "      <td>0.166667</td>\n",
       "      <td>0.001772</td>\n",
       "      <td>0.00000</td>\n",
       "      <td>0.088235</td>\n",
       "      <td>0.904762</td>\n",
       "      <td>0.048000</td>\n",
       "      <td>0.061290</td>\n",
       "      <td>0.146667</td>\n",
       "      <td>0.000000</td>\n",
       "    </tr>\n",
       "    <tr>\n",
       "      <th>372</th>\n",
       "      <td>115000.0</td>\n",
       "      <td>0.0</td>\n",
       "      <td>0.0</td>\n",
       "      <td>0.0</td>\n",
       "      <td>0.0</td>\n",
       "      <td>0.0</td>\n",
       "      <td>0.0</td>\n",
       "      <td>0.0</td>\n",
       "      <td>0.0</td>\n",
       "      <td>0.0</td>\n",
       "      <td>...</td>\n",
       "      <td>0.0</td>\n",
       "      <td>0.000000</td>\n",
       "      <td>0.012113</td>\n",
       "      <td>0.03125</td>\n",
       "      <td>0.147059</td>\n",
       "      <td>0.984127</td>\n",
       "      <td>0.050667</td>\n",
       "      <td>0.012903</td>\n",
       "      <td>0.240000</td>\n",
       "      <td>0.030100</td>\n",
       "    </tr>\n",
       "    <tr>\n",
       "      <th>373</th>\n",
       "      <td>39000.0</td>\n",
       "      <td>11.0</td>\n",
       "      <td>0.0</td>\n",
       "      <td>0.0</td>\n",
       "      <td>1.0</td>\n",
       "      <td>0.0</td>\n",
       "      <td>0.0</td>\n",
       "      <td>0.0</td>\n",
       "      <td>0.0</td>\n",
       "      <td>0.0</td>\n",
       "      <td>...</td>\n",
       "      <td>0.0</td>\n",
       "      <td>0.000000</td>\n",
       "      <td>0.002726</td>\n",
       "      <td>0.06250</td>\n",
       "      <td>0.088235</td>\n",
       "      <td>0.515873</td>\n",
       "      <td>0.024000</td>\n",
       "      <td>0.025806</td>\n",
       "      <td>0.066667</td>\n",
       "      <td>0.026756</td>\n",
       "    </tr>\n",
       "    <tr>\n",
       "      <th>374</th>\n",
       "      <td>115000.0</td>\n",
       "      <td>6.0</td>\n",
       "      <td>0.0</td>\n",
       "      <td>0.0</td>\n",
       "      <td>0.0</td>\n",
       "      <td>0.0</td>\n",
       "      <td>0.0</td>\n",
       "      <td>0.0</td>\n",
       "      <td>0.0</td>\n",
       "      <td>0.0</td>\n",
       "      <td>...</td>\n",
       "      <td>0.0</td>\n",
       "      <td>0.333333</td>\n",
       "      <td>0.002649</td>\n",
       "      <td>0.37500</td>\n",
       "      <td>0.676471</td>\n",
       "      <td>0.865079</td>\n",
       "      <td>0.117333</td>\n",
       "      <td>0.087097</td>\n",
       "      <td>0.146667</td>\n",
       "      <td>0.060201</td>\n",
       "    </tr>\n",
       "    <tr>\n",
       "      <th>375</th>\n",
       "      <td>90005.0</td>\n",
       "      <td>20.0</td>\n",
       "      <td>0.0</td>\n",
       "      <td>0.0</td>\n",
       "      <td>0.0</td>\n",
       "      <td>0.0</td>\n",
       "      <td>0.0</td>\n",
       "      <td>0.0</td>\n",
       "      <td>0.0</td>\n",
       "      <td>0.0</td>\n",
       "      <td>...</td>\n",
       "      <td>0.0</td>\n",
       "      <td>0.166667</td>\n",
       "      <td>0.007640</td>\n",
       "      <td>0.21875</td>\n",
       "      <td>0.382353</td>\n",
       "      <td>0.904762</td>\n",
       "      <td>0.058667</td>\n",
       "      <td>0.022581</td>\n",
       "      <td>0.226667</td>\n",
       "      <td>0.033445</td>\n",
       "    </tr>\n",
       "  </tbody>\n",
       "</table>\n",
       "<p>376 rows × 175 columns</p>\n",
       "</div>"
      ],
      "text/plain": [
       "        Price  ordinal_encoder__district  \\\n",
       "0     30970.0                       11.0   \n",
       "1     82000.0                       11.0   \n",
       "2    135000.0                       11.0   \n",
       "3     84000.0                       11.0   \n",
       "4     60000.0                       11.0   \n",
       "..        ...                        ...   \n",
       "371   42900.0                       18.0   \n",
       "372  115000.0                        0.0   \n",
       "373   39000.0                       11.0   \n",
       "374  115000.0                        6.0   \n",
       "375   90005.0                       20.0   \n",
       "\n",
       "     one_hot_encoder__street_Інститутська  one_hot_encoder__street_Іскрівська  \\\n",
       "0                                     0.0                                 0.0   \n",
       "1                                     0.0                                 0.0   \n",
       "2                                     0.0                                 0.0   \n",
       "3                                     0.0                                 0.0   \n",
       "4                                     0.0                                 0.0   \n",
       "..                                    ...                                 ...   \n",
       "371                                   0.0                                 1.0   \n",
       "372                                   0.0                                 0.0   \n",
       "373                                   0.0                                 0.0   \n",
       "374                                   0.0                                 0.0   \n",
       "375                                   0.0                                 0.0   \n",
       "\n",
       "     one_hot_encoder__street_Автозаводська  \\\n",
       "0                                      0.0   \n",
       "1                                      0.0   \n",
       "2                                      0.0   \n",
       "3                                      0.0   \n",
       "4                                      0.0   \n",
       "..                                     ...   \n",
       "371                                    0.0   \n",
       "372                                    0.0   \n",
       "373                                    1.0   \n",
       "374                                    0.0   \n",
       "375                                    0.0   \n",
       "\n",
       "     one_hot_encoder__street_Азербайджанська  \\\n",
       "0                                        0.0   \n",
       "1                                        0.0   \n",
       "2                                        0.0   \n",
       "3                                        0.0   \n",
       "4                                        0.0   \n",
       "..                                       ...   \n",
       "371                                      0.0   \n",
       "372                                      0.0   \n",
       "373                                      0.0   \n",
       "374                                      0.0   \n",
       "375                                      0.0   \n",
       "\n",
       "     one_hot_encoder__street_Антоновича  \\\n",
       "0                                   0.0   \n",
       "1                                   0.0   \n",
       "2                                   0.0   \n",
       "3                                   0.0   \n",
       "4                                   0.0   \n",
       "..                                  ...   \n",
       "371                                 0.0   \n",
       "372                                 0.0   \n",
       "373                                 0.0   \n",
       "374                                 0.0   \n",
       "375                                 0.0   \n",
       "\n",
       "     one_hot_encoder__street_Багговутівська  \\\n",
       "0                                       0.0   \n",
       "1                                       0.0   \n",
       "2                                       0.0   \n",
       "3                                       0.0   \n",
       "4                                       0.0   \n",
       "..                                      ...   \n",
       "371                                     0.0   \n",
       "372                                     0.0   \n",
       "373                                     0.0   \n",
       "374                                     0.0   \n",
       "375                                     0.0   \n",
       "\n",
       "     one_hot_encoder__street_Балтійський  one_hot_encoder__street_Басейна  \\\n",
       "0                                    0.0                              0.0   \n",
       "1                                    0.0                              0.0   \n",
       "2                                    0.0                              0.0   \n",
       "3                                    0.0                              0.0   \n",
       "4                                    0.0                              0.0   \n",
       "..                                   ...                              ...   \n",
       "371                                  0.0                              0.0   \n",
       "372                                  0.0                              0.0   \n",
       "373                                  0.0                              0.0   \n",
       "374                                  0.0                              0.0   \n",
       "375                                  0.0                              0.0   \n",
       "\n",
       "     ...  one_hot_encoder__street_Ясинуватський  numeric_encoder__rooms  \\\n",
       "0    ...                                    0.0                0.000000   \n",
       "1    ...                                    0.0                0.166667   \n",
       "2    ...                                    0.0                0.166667   \n",
       "3    ...                                    0.0                0.166667   \n",
       "4    ...                                    0.0                0.000000   \n",
       "..   ...                                    ...                     ...   \n",
       "371  ...                                    0.0                0.166667   \n",
       "372  ...                                    0.0                0.000000   \n",
       "373  ...                                    0.0                0.000000   \n",
       "374  ...                                    0.0                0.333333   \n",
       "375  ...                                    0.0                0.166667   \n",
       "\n",
       "     numeric_encoder__price_per_m2  numeric_encoder__level  \\\n",
       "0                         0.002464                 0.34375   \n",
       "1                         0.003583                 0.53125   \n",
       "2                         0.008677                 0.46875   \n",
       "3                         0.003532                 0.15625   \n",
       "4                         0.004748                 0.03125   \n",
       "..                             ...                     ...   \n",
       "371                       0.001772                 0.00000   \n",
       "372                       0.012113                 0.03125   \n",
       "373                       0.002726                 0.06250   \n",
       "374                       0.002649                 0.37500   \n",
       "375                       0.007640                 0.21875   \n",
       "\n",
       "     numeric_encoder__levels  numeric_encoder__year  \\\n",
       "0                   0.323529               0.936508   \n",
       "1                   0.705882               0.904762   \n",
       "2                   0.617647               0.928571   \n",
       "3                   0.705882               0.904762   \n",
       "4                   0.705882               0.904762   \n",
       "..                       ...                    ...   \n",
       "371                 0.088235               0.904762   \n",
       "372                 0.147059               0.984127   \n",
       "373                 0.088235               0.515873   \n",
       "374                 0.676471               0.865079   \n",
       "375                 0.382353               0.904762   \n",
       "\n",
       "     numeric_encoder__area_total  numeric_encoder__area_living  \\\n",
       "0                       0.008000                      0.009677   \n",
       "1                       0.104000                      0.087097   \n",
       "2                       0.106667                      0.048387   \n",
       "3                       0.109333                      0.087097   \n",
       "4                       0.042667                      0.087097   \n",
       "..                           ...                           ...   \n",
       "371                     0.048000                      0.061290   \n",
       "372                     0.050667                      0.012903   \n",
       "373                     0.024000                      0.025806   \n",
       "374                     0.117333                      0.087097   \n",
       "375                     0.058667                      0.022581   \n",
       "\n",
       "     numeric_encoder__area_kitchen  numeric_encoder__area_comfort  \n",
       "0                         0.026667                       0.033445  \n",
       "1                         0.146667                       0.043478  \n",
       "2                         0.200000                       0.073579  \n",
       "3                         0.200000                       0.036789  \n",
       "4                         0.146667                       0.000000  \n",
       "..                             ...                            ...  \n",
       "371                       0.146667                       0.000000  \n",
       "372                       0.240000                       0.030100  \n",
       "373                       0.066667                       0.026756  \n",
       "374                       0.146667                       0.060201  \n",
       "375                       0.226667                       0.033445  \n",
       "\n",
       "[376 rows x 175 columns]"
      ]
     },
     "execution_count": 34,
     "metadata": {},
     "output_type": "execute_result"
    }
   ],
   "source": [
    "# побудувати вихідний датафрейм з вихідного масиву додавши в першу колонку\n",
    "# ціловий показчик `target`\n",
    "data_transformed = pd.DataFrame(data_transformed, columns=transformer.get_feature_names_out())\n",
    "target = pd.DataFrame(target)\n",
    "\n",
    "apartment_transformed = pd.concat([target,data_transformed], axis=1)\n",
    "apartment_transformed"
   ]
  },
  {
   "cell_type": "code",
   "execution_count": 35,
   "id": "392d36bf",
   "metadata": {
    "hidden": true
   },
   "outputs": [
    {
     "name": "stdout",
     "output_type": "stream",
     "text": [
      "Shape is (376, 175)\n"
     ]
    }
   ],
   "source": [
    "# Проінспектувати вихідний датасет `apartment_transformed`\n",
    "print(f'Shape is {apartment_transformed.shape}')"
   ]
  },
  {
   "cell_type": "code",
   "execution_count": 36,
   "id": "3fca0d30",
   "metadata": {
    "hidden": true
   },
   "outputs": [],
   "source": [
    "# зберегти підготовлений датасет в csv-файлі `apartment_transformed.csv`\n",
    "apartment_transformed.to_csv('apartment_transformed.csv')"
   ]
  },
  {
   "cell_type": "code",
   "execution_count": null,
   "id": "78ca7c40",
   "metadata": {},
   "outputs": [],
   "source": []
  }
 ],
 "metadata": {
  "kernelspec": {
   "display_name": "Python 3 (ipykernel)",
   "language": "python",
   "name": "python3"
  },
  "language_info": {
   "codemirror_mode": {
    "name": "ipython",
    "version": 3
   },
   "file_extension": ".py",
   "mimetype": "text/x-python",
   "name": "python",
   "nbconvert_exporter": "python",
   "pygments_lexer": "ipython3",
   "version": "3.9.13"
  },
  "varInspector": {
   "cols": {
    "lenName": 16,
    "lenType": 16,
    "lenVar": 40
   },
   "kernels_config": {
    "python": {
     "delete_cmd_postfix": "",
     "delete_cmd_prefix": "del ",
     "library": "var_list.py",
     "varRefreshCmd": "print(var_dic_list())"
    },
    "r": {
     "delete_cmd_postfix": ") ",
     "delete_cmd_prefix": "rm(",
     "library": "var_list.r",
     "varRefreshCmd": "cat(var_dic_list()) "
    }
   },
   "types_to_exclude": [
    "module",
    "function",
    "builtin_function_or_method",
    "instance",
    "_Feature"
   ],
   "window_display": false
  }
 },
 "nbformat": 4,
 "nbformat_minor": 5
}
