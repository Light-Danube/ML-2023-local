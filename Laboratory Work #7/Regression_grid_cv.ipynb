{
 "cells": [
  {
   "cell_type": "markdown",
   "id": "6706f670",
   "metadata": {},
   "source": [
    "\n",
    "# ЛАБОРАТОРНА РОБОТА  \n",
    "\n",
    "## \"Лінійні та нелінійні регресійні моделі МН\"\n",
    "\n",
    "__Метою__ лабораторної роботи є набуття практичних навичок використання модулів бібліотеки `Scikit-learn` для вирішення наступних задач:\n",
    "\n",
    "- визначення суттєвих показчиків для регресійної моделі\n",
    "- пошук та настроювання гіперпараметрів лінійних та нелінійних регресійних моделей\n",
    "\n",
    "__Результатом__ виконання лабораторної роботи є серія моделей які прогнозують ціну кватрир на вторинному ринку житла"
   ]
  },
  {
   "cell_type": "code",
   "execution_count": 1,
   "id": "bdfb6875",
   "metadata": {},
   "outputs": [
    {
     "data": {
      "text/plain": [
       "(376, 176)"
      ]
     },
     "execution_count": 1,
     "metadata": {},
     "output_type": "execute_result"
    }
   ],
   "source": [
    "import pandas as pd\n",
    "import numpy as np\n",
    "\n",
    "data = pd.read_csv('apartment_transformed.csv')\n",
    "data.shape"
   ]
  },
  {
   "cell_type": "code",
   "execution_count": 2,
   "id": "3d17c75b",
   "metadata": {},
   "outputs": [
    {
     "data": {
      "text/plain": [
       "((376, 175), (376,))"
      ]
     },
     "execution_count": 2,
     "metadata": {},
     "output_type": "execute_result"
    }
   ],
   "source": [
    "# відокремити ціловий показчик 'price'\n",
    "price = data['Price']\n",
    "\n",
    "# зилишити в 'data' тільки незалежні показчики\n",
    "data = data.drop(['Price'], axis=1)\n",
    "\n",
    "data.shape, price.shape    # ((676, 301), (676,))"
   ]
  },
  {
   "cell_type": "markdown",
   "id": "4b391a2e",
   "metadata": {},
   "source": [
    "## 1. Пошук значущих ознак"
   ]
  },
  {
   "cell_type": "markdown",
   "id": "27e655c1",
   "metadata": {},
   "source": [
    "### Теоретичне введення"
   ]
  },
  {
   "cell_type": "markdown",
   "id": "83fe0105",
   "metadata": {},
   "source": [
    "__Значущі (суттеві) ознаки__ це дані, які мають сильну кореляцію або вплив на результат або прогноз моделі.\n",
    "\n",
    "Ці позазчики визначаються за допомогою процесу, який називається __відбором ознак__ ([Feature selection](https://en.wikipedia.org/wiki/Feature_selection)), який передбачає _оцінку_ та _ранжування важливості_ різних змінних у наборі даних. Це можна зробити за дпомогою статистичних тестів, кореляційного аналізу або алгоритмів машинного навчання.\n",
    "\n",
    "Після визначення значущих ознак їх можна використовувати для навчання моделі машинного навчання.\n",
    "\n",
    "Це може бути особливо важливим у моделях, де дані складні та містять багато змінних. Тому ідентифікація  суттєвих ознак може допомогти зменшити розмірність даних і покращити продуктивність моделі.\n",
    "\n",
    "Класи в модулі [sklearn.feature_selection](https://scikit-learn.org/stable/modules/feature_selection.html) можна використовувати для вибору функцій/зменшення розмірності на вибіркових наборах або для покращення показників точності оцінювачів, або для підвищення їх продуктивності на масивах даних з дуже великою розмірністю."
   ]
  },
  {
   "cell_type": "markdown",
   "id": "ce8a207f",
   "metadata": {},
   "source": [
    "### Завдання\n",
    "\n",
    "Відібрати з вхідного набору `data` 7 найбільш суттєвих показчиків для регрісійної моделі машинного навчання."
   ]
  },
  {
   "cell_type": "code",
   "execution_count": 3,
   "id": "3da76799",
   "metadata": {},
   "outputs": [],
   "source": [
    "# імпортувати з модуля 'feature_selection' селектор ознак 'SelectKBest' \n",
    "# та регрісійний тест 'f_regression'\n",
    "from sklearn.feature_selection import SelectKBest, f_regression"
   ]
  },
  {
   "cell_type": "code",
   "execution_count": 4,
   "id": "443396fe",
   "metadata": {
    "scrolled": true
   },
   "outputs": [],
   "source": [
    "# побудувати селектор 7 ознак на f-регресорі\n",
    "kbest_selector = SelectKBest(f_regression, k=7)\n",
    "\n",
    "# застосувати селектор для побудови списку ознак\n",
    "data_selected = kbest_selector.fit_transform(data, price)"
   ]
  },
  {
   "cell_type": "code",
   "execution_count": 5,
   "id": "74635da9",
   "metadata": {},
   "outputs": [],
   "source": [
    "# зберегти імена визначених селектором найбільш суттєвих ознак\n",
    "best_features = kbest_selector.get_feature_names_out()"
   ]
  },
  {
   "cell_type": "code",
   "execution_count": 7,
   "id": "c8761bcd",
   "metadata": {},
   "outputs": [
    {
     "data": {
      "text/html": [
       "<div>\n",
       "<style scoped>\n",
       "    .dataframe tbody tr th:only-of-type {\n",
       "        vertical-align: middle;\n",
       "    }\n",
       "\n",
       "    .dataframe tbody tr th {\n",
       "        vertical-align: top;\n",
       "    }\n",
       "\n",
       "    .dataframe thead th {\n",
       "        text-align: right;\n",
       "    }\n",
       "</style>\n",
       "<table border=\"1\" class=\"dataframe\">\n",
       "  <thead>\n",
       "    <tr style=\"text-align: right;\">\n",
       "      <th></th>\n",
       "      <th>one_hot_encoder__street_Мічуріна</th>\n",
       "      <th>one_hot_encoder__street_Саксаганського</th>\n",
       "      <th>numeric_encoder__rooms</th>\n",
       "      <th>numeric_encoder__price_per_m2</th>\n",
       "      <th>numeric_encoder__area_total</th>\n",
       "      <th>numeric_encoder__area_living</th>\n",
       "      <th>numeric_encoder__area_comfort</th>\n",
       "    </tr>\n",
       "  </thead>\n",
       "  <tbody>\n",
       "    <tr>\n",
       "      <th>0</th>\n",
       "      <td>0.0</td>\n",
       "      <td>0.0</td>\n",
       "      <td>0.000000</td>\n",
       "      <td>0.002464</td>\n",
       "      <td>0.008000</td>\n",
       "      <td>0.009677</td>\n",
       "      <td>0.033445</td>\n",
       "    </tr>\n",
       "    <tr>\n",
       "      <th>1</th>\n",
       "      <td>0.0</td>\n",
       "      <td>0.0</td>\n",
       "      <td>0.166667</td>\n",
       "      <td>0.003583</td>\n",
       "      <td>0.104000</td>\n",
       "      <td>0.087097</td>\n",
       "      <td>0.043478</td>\n",
       "    </tr>\n",
       "    <tr>\n",
       "      <th>2</th>\n",
       "      <td>0.0</td>\n",
       "      <td>0.0</td>\n",
       "      <td>0.166667</td>\n",
       "      <td>0.008677</td>\n",
       "      <td>0.106667</td>\n",
       "      <td>0.048387</td>\n",
       "      <td>0.073579</td>\n",
       "    </tr>\n",
       "    <tr>\n",
       "      <th>3</th>\n",
       "      <td>0.0</td>\n",
       "      <td>0.0</td>\n",
       "      <td>0.166667</td>\n",
       "      <td>0.003532</td>\n",
       "      <td>0.109333</td>\n",
       "      <td>0.087097</td>\n",
       "      <td>0.036789</td>\n",
       "    </tr>\n",
       "    <tr>\n",
       "      <th>4</th>\n",
       "      <td>0.0</td>\n",
       "      <td>0.0</td>\n",
       "      <td>0.000000</td>\n",
       "      <td>0.004748</td>\n",
       "      <td>0.042667</td>\n",
       "      <td>0.087097</td>\n",
       "      <td>0.000000</td>\n",
       "    </tr>\n",
       "  </tbody>\n",
       "</table>\n",
       "</div>"
      ],
      "text/plain": [
       "   one_hot_encoder__street_Мічуріна  one_hot_encoder__street_Саксаганського  \\\n",
       "0                               0.0                                     0.0   \n",
       "1                               0.0                                     0.0   \n",
       "2                               0.0                                     0.0   \n",
       "3                               0.0                                     0.0   \n",
       "4                               0.0                                     0.0   \n",
       "\n",
       "   numeric_encoder__rooms  numeric_encoder__price_per_m2  \\\n",
       "0                0.000000                       0.002464   \n",
       "1                0.166667                       0.003583   \n",
       "2                0.166667                       0.008677   \n",
       "3                0.166667                       0.003532   \n",
       "4                0.000000                       0.004748   \n",
       "\n",
       "   numeric_encoder__area_total  numeric_encoder__area_living  \\\n",
       "0                     0.008000                      0.009677   \n",
       "1                     0.104000                      0.087097   \n",
       "2                     0.106667                      0.048387   \n",
       "3                     0.109333                      0.087097   \n",
       "4                     0.042667                      0.087097   \n",
       "\n",
       "   numeric_encoder__area_comfort  \n",
       "0                       0.033445  \n",
       "1                       0.043478  \n",
       "2                       0.073579  \n",
       "3                       0.036789  \n",
       "4                       0.000000  "
      ]
     },
     "execution_count": 7,
     "metadata": {},
     "output_type": "execute_result"
    }
   ],
   "source": [
    "# побудувати датафрейм на визначених ознаках\n",
    "data = pd.DataFrame(data=data_selected, \n",
    "                    columns=best_features)\n",
    "data.head()"
   ]
  },
  {
   "cell_type": "markdown",
   "id": "949c8685",
   "metadata": {},
   "source": [
    "### Висновки\n",
    "\n",
    "_описати загальну статистичну характеристику отриманого датасети та зробити висновки щодо можливості його використання для подальшого аналізу_\n",
    "\n",
    "Отримано датасет 7х5 (рядки від 0 до 4), який містить найбільш \"суттєві\" ознаки нашого датасету рієлтора. Використання поданого датасету значно знизить шанс перенавчання(overfitting) майбутньої моделі, порівняно з використанням усіх початкових даних. "
   ]
  },
  {
   "cell_type": "markdown",
   "id": "4ce163fc",
   "metadata": {},
   "source": [
    "## 2. Множинна лінійна регресія"
   ]
  },
  {
   "cell_type": "markdown",
   "id": "6c4205a3",
   "metadata": {},
   "source": [
    "### Теоретичне введення"
   ]
  },
  {
   "cell_type": "markdown",
   "id": "24b4dc56",
   "metadata": {},
   "source": [
    "__Множинна лінійна регресія__ — це статистичний метод, який використовується для встановлення зв’язку між _залежною_ (цільвою) змінною $\\textbf y$ та _кількома_ незалежними змінними $\\textbf [X]$.  \n",
    "\n",
    "__Метою__ множинної лінійної регресії є знаходження найкращого лінійного зв’язку між залежною змінною та незалежними змінними, який виражається у вигляді рівняння:\n",
    "$$y = b_0 + b_1 x_1 + b_2 x_2 + ... + b_n x_n$$\n",
    "\n",
    "Найкращій зв'язок забезпечується знаходженням таких коєфіцієнтів $[B]$, що додають мінімум обраній метриці (MSE, MAE, ...)"
   ]
  },
  {
   "cell_type": "markdown",
   "id": "bb6eda7e",
   "metadata": {},
   "source": [
    "### Завдання\n",
    "\n",
    "\n",
    "Порахувати показчики якості моделі [лінйной множинної регресії](https://uk.mcfairbanks.com/719-multiple-regression-formula) на визначениx п.1 значущих ознаках датасету застосувавши [кросс-валідацію з __10__ сплітами](https://scikit-learn.org/stable/modules/cross_validation.html)."
   ]
  },
  {
   "cell_type": "code",
   "execution_count": 38,
   "id": "7ff83f4d",
   "metadata": {},
   "outputs": [],
   "source": [
    "# імпортувати та побудувати лінійний регресор з параметрами за замовчанням\n",
    "from sklearn.linear_model import LinearRegression\n",
    "lr = LinearRegression()"
   ]
  },
  {
   "cell_type": "code",
   "execution_count": 39,
   "id": "5bef1de0",
   "metadata": {},
   "outputs": [],
   "source": [
    "# імпортувати крос-валідатор 'cross_validate' з модуля 'model_selection'\n",
    "from sklearn.model_selection import cross_validate, KFold"
   ]
  },
  {
   "cell_type": "code",
   "execution_count": 40,
   "id": "d24b7e36",
   "metadata": {},
   "outputs": [],
   "source": [
    "# отримати результати крос-валідації по параметрам 'neg_mean_absolute_percentage_error' \n",
    "# та 'r2' на 10 сплітах передбачивши розрахунок на навчальному наборі 'return_train_score'\n",
    "cv_results_mul = cross_validate(lr, data, price, scoring = ['neg_mean_absolute_percentage_error', 'r2'],\n",
    "                                cv=KFold(n_splits=10, random_state=None, shuffle=True), \n",
    "                                return_train_score = True)"
   ]
  },
  {
   "cell_type": "markdown",
   "id": "0b944d08",
   "metadata": {},
   "source": [
    "#### занести результати в датафрейм 'cv_results_mul ' наступного вигляду:\n",
    "\n",
    "------------\n",
    "\n",
    "|помилка тесту в %   |коєф. R2 тесту  | помилка навчання в %  | коєф. R2 навчання  |\n",
    "| :------------:|:------------:|:------------:|:------------:|\n",
    "|  xx.xx | xx.xx  | xx.xx  | xx.xx  |\n",
    "|  xx.xx | xx.xx  | xx.xx  | xx.xx  |\n",
    "|  ... | ...  | ...  | ...  |\n"
   ]
  },
  {
   "cell_type": "code",
   "execution_count": 41,
   "id": "f11ec7b5",
   "metadata": {
    "scrolled": true
   },
   "outputs": [
    {
     "data": {
      "text/html": [
       "<div>\n",
       "<style scoped>\n",
       "    .dataframe tbody tr th:only-of-type {\n",
       "        vertical-align: middle;\n",
       "    }\n",
       "\n",
       "    .dataframe tbody tr th {\n",
       "        vertical-align: top;\n",
       "    }\n",
       "\n",
       "    .dataframe thead th {\n",
       "        text-align: right;\n",
       "    }\n",
       "</style>\n",
       "<table border=\"1\" class=\"dataframe\">\n",
       "  <thead>\n",
       "    <tr style=\"text-align: right;\">\n",
       "      <th></th>\n",
       "      <th>помилка тесту в %</th>\n",
       "      <th>коеф. R2 тесту</th>\n",
       "      <th>помилка навчання в %</th>\n",
       "      <th>коеф. R2 навчання</th>\n",
       "    </tr>\n",
       "  </thead>\n",
       "  <tbody>\n",
       "    <tr>\n",
       "      <th>0</th>\n",
       "      <td>-0.557507</td>\n",
       "      <td>0.798660</td>\n",
       "      <td>-0.428617</td>\n",
       "      <td>0.986019</td>\n",
       "    </tr>\n",
       "    <tr>\n",
       "      <th>1</th>\n",
       "      <td>-0.689565</td>\n",
       "      <td>0.784836</td>\n",
       "      <td>-0.485619</td>\n",
       "      <td>0.986872</td>\n",
       "    </tr>\n",
       "    <tr>\n",
       "      <th>2</th>\n",
       "      <td>-0.307089</td>\n",
       "      <td>0.697912</td>\n",
       "      <td>-0.326730</td>\n",
       "      <td>0.994264</td>\n",
       "    </tr>\n",
       "    <tr>\n",
       "      <th>3</th>\n",
       "      <td>-0.442600</td>\n",
       "      <td>0.766153</td>\n",
       "      <td>-0.475135</td>\n",
       "      <td>0.986497</td>\n",
       "    </tr>\n",
       "    <tr>\n",
       "      <th>4</th>\n",
       "      <td>-0.492557</td>\n",
       "      <td>0.974004</td>\n",
       "      <td>-0.472988</td>\n",
       "      <td>0.871091</td>\n",
       "    </tr>\n",
       "  </tbody>\n",
       "</table>\n",
       "</div>"
      ],
      "text/plain": [
       "   помилка тесту в %  коеф. R2 тесту  помилка навчання в %  коеф. R2 навчання\n",
       "0          -0.557507        0.798660             -0.428617           0.986019\n",
       "1          -0.689565        0.784836             -0.485619           0.986872\n",
       "2          -0.307089        0.697912             -0.326730           0.994264\n",
       "3          -0.442600        0.766153             -0.475135           0.986497\n",
       "4          -0.492557        0.974004             -0.472988           0.871091"
      ]
     },
     "execution_count": 41,
     "metadata": {},
     "output_type": "execute_result"
    }
   ],
   "source": [
    "cv_results_mul = pd.DataFrame({\n",
    "    'помилка тесту в %': cv_results_mul['test_neg_mean_absolute_percentage_error'],\n",
    "    'коеф. R2 тесту': cv_results_mul['test_r2'],\n",
    "    'помилка навчання в %': cv_results_mul['train_neg_mean_absolute_percentage_error'],\n",
    "    'коеф. R2 навчання': cv_results_mul['train_r2']\n",
    "})\n",
    "cv_results_mul.head()"
   ]
  },
  {
   "cell_type": "code",
   "execution_count": 42,
   "id": "de859c53",
   "metadata": {},
   "outputs": [
    {
     "name": "stdout",
     "output_type": "stream",
     "text": [
      "середня помилка навчання =  -0.43808620517049823\n",
      "середня помилка тесту =  -0.4521813317315665\n"
     ]
    }
   ],
   "source": [
    "# продовжити наступні команди виводу:\n",
    "print (\"середня помилка навчання = \", np.mean(cv_results_mul['помилка навчання в %']))\n",
    "print (\"середня помилка тесту = \", np.mean(cv_results_mul['помилка тесту в %']))"
   ]
  },
  {
   "cell_type": "markdown",
   "id": "63800fff",
   "metadata": {},
   "source": [
    "### Висновки\n",
    "\n",
    "_зпираючись на отримані метрики якості зробити висновок про придатність моделі, недонавчана чи перенавчана вона і т.п._\n",
    "\n",
    "### ВІДПОВІДЬ:\n",
    "Виходячи із отриманих метрик, можна зазначити наступне:\n",
    "- Середні значення помилки, на мою думку - входить у норму для даної моделі: і тестувальної, і тренованої вибірки;\n",
    "- Значення коефіцієнта детермінації (R) для тесту та навчання у багатьох вибірках наближен до 100%, що свідчить більше про якість побудованої моделі\n",
    "- Виходячі з цих даних, справедливо зазначити - модель можна не \"перенавченною\", а \"нормальною\"."
   ]
  },
  {
   "cell_type": "markdown",
   "id": "b034005f",
   "metadata": {},
   "source": [
    "## 3. Гребнева (Ridge) регресія"
   ]
  },
  {
   "cell_type": "markdown",
   "id": "206d4b9b",
   "metadata": {
    "heading_collapsed": true
   },
   "source": [
    "### Теоретичне введення"
   ]
  },
  {
   "cell_type": "markdown",
   "id": "efada9e6",
   "metadata": {
    "hidden": true
   },
   "source": [
    "__Гребнева регресія__ — це техніка регулярізації, яка використовується в машинному навчанні для запобігання перенавчанню лінійних регресійних моделей за рахунок додавання штрафу до функції втрат регресійної моделі, яка зменшує величину коефіцієнтів до нуля.\n",
    "\n",
    "$$\\min_w\\sum_{i=1}^n(y_i - x_i^w)^2 + \\lambda|w|_2^2$$\n",
    "\n",
    "Розмір штрафу визначається [нормою L2](https://craftappmobile.com/l1-vs-l2-regularization/) вектора коефіцієнтів, помноженою на гіперпараметр $\\large \\lambda$.\n",
    "\n",
    "\n"
   ]
  },
  {
   "cell_type": "markdown",
   "id": "779e5d1a",
   "metadata": {},
   "source": [
    "### Завдання\n",
    "\n",
    "Побудувати модель на основі `ridge-регресії` та за допомогою [GridSearchCV](https://scikit-learn.org/stable/modules/generated/sklearn.model_selection.GridSearchCV.html) знайти таке значення _L2-регулярізатора_, яке буде\n",
    "мінізувати обрані метрики якості моделі.\n",
    "Для побудови моделі скоистатися датасетом, що отримано в  __завданні 1__ лабораторної роботи\n"
   ]
  },
  {
   "cell_type": "code",
   "execution_count": 43,
   "id": "ede2330d",
   "metadata": {},
   "outputs": [],
   "source": [
    "# імпортувати ridge-регресор з модуля `sklearn.linear_model`\n",
    "from sklearn.linear_model import Ridge\n",
    "\n",
    "# побудувати регресор\n",
    "ridge = Ridge(random_state = 33, fit_intercept = False)"
   ]
  },
  {
   "cell_type": "code",
   "execution_count": 44,
   "id": "d716b997",
   "metadata": {},
   "outputs": [],
   "source": [
    "# імпортувати сітку пошуку `GridSearchCV` з модулю sklearn.model_selection\n",
    "from sklearn.model_selection import GridSearchCV\n",
    "\n",
    "# визначити параметр равномірного пошуку 100 значень параметеру `alpha` в диапазоні 0-100000 \n",
    "grid_params = {'alpha': np.arange(0, 100000, 1000),\n",
    "'max_iter': [1500, 3000]}"
   ]
  },
  {
   "cell_type": "code",
   "execution_count": 45,
   "id": "622b3635",
   "metadata": {
    "scrolled": true
   },
   "outputs": [
    {
     "name": "stdout",
     "output_type": "stream",
     "text": [
      "CPU times: total: 7.75 s\n",
      "Wall time: 7.75 s\n"
     ]
    },
    {
     "data": {
      "text/html": [
       "<style>#sk-container-id-7 {color: black;background-color: white;}#sk-container-id-7 pre{padding: 0;}#sk-container-id-7 div.sk-toggleable {background-color: white;}#sk-container-id-7 label.sk-toggleable__label {cursor: pointer;display: block;width: 100%;margin-bottom: 0;padding: 0.3em;box-sizing: border-box;text-align: center;}#sk-container-id-7 label.sk-toggleable__label-arrow:before {content: \"▸\";float: left;margin-right: 0.25em;color: #696969;}#sk-container-id-7 label.sk-toggleable__label-arrow:hover:before {color: black;}#sk-container-id-7 div.sk-estimator:hover label.sk-toggleable__label-arrow:before {color: black;}#sk-container-id-7 div.sk-toggleable__content {max-height: 0;max-width: 0;overflow: hidden;text-align: left;background-color: #f0f8ff;}#sk-container-id-7 div.sk-toggleable__content pre {margin: 0.2em;color: black;border-radius: 0.25em;background-color: #f0f8ff;}#sk-container-id-7 input.sk-toggleable__control:checked~div.sk-toggleable__content {max-height: 200px;max-width: 100%;overflow: auto;}#sk-container-id-7 input.sk-toggleable__control:checked~label.sk-toggleable__label-arrow:before {content: \"▾\";}#sk-container-id-7 div.sk-estimator input.sk-toggleable__control:checked~label.sk-toggleable__label {background-color: #d4ebff;}#sk-container-id-7 div.sk-label input.sk-toggleable__control:checked~label.sk-toggleable__label {background-color: #d4ebff;}#sk-container-id-7 input.sk-hidden--visually {border: 0;clip: rect(1px 1px 1px 1px);clip: rect(1px, 1px, 1px, 1px);height: 1px;margin: -1px;overflow: hidden;padding: 0;position: absolute;width: 1px;}#sk-container-id-7 div.sk-estimator {font-family: monospace;background-color: #f0f8ff;border: 1px dotted black;border-radius: 0.25em;box-sizing: border-box;margin-bottom: 0.5em;}#sk-container-id-7 div.sk-estimator:hover {background-color: #d4ebff;}#sk-container-id-7 div.sk-parallel-item::after {content: \"\";width: 100%;border-bottom: 1px solid gray;flex-grow: 1;}#sk-container-id-7 div.sk-label:hover label.sk-toggleable__label {background-color: #d4ebff;}#sk-container-id-7 div.sk-serial::before {content: \"\";position: absolute;border-left: 1px solid gray;box-sizing: border-box;top: 0;bottom: 0;left: 50%;z-index: 0;}#sk-container-id-7 div.sk-serial {display: flex;flex-direction: column;align-items: center;background-color: white;padding-right: 0.2em;padding-left: 0.2em;position: relative;}#sk-container-id-7 div.sk-item {position: relative;z-index: 1;}#sk-container-id-7 div.sk-parallel {display: flex;align-items: stretch;justify-content: center;background-color: white;position: relative;}#sk-container-id-7 div.sk-item::before, #sk-container-id-7 div.sk-parallel-item::before {content: \"\";position: absolute;border-left: 1px solid gray;box-sizing: border-box;top: 0;bottom: 0;left: 50%;z-index: -1;}#sk-container-id-7 div.sk-parallel-item {display: flex;flex-direction: column;z-index: 1;position: relative;background-color: white;}#sk-container-id-7 div.sk-parallel-item:first-child::after {align-self: flex-end;width: 50%;}#sk-container-id-7 div.sk-parallel-item:last-child::after {align-self: flex-start;width: 50%;}#sk-container-id-7 div.sk-parallel-item:only-child::after {width: 0;}#sk-container-id-7 div.sk-dashed-wrapped {border: 1px dashed gray;margin: 0 0.4em 0.5em 0.4em;box-sizing: border-box;padding-bottom: 0.4em;background-color: white;}#sk-container-id-7 div.sk-label label {font-family: monospace;font-weight: bold;display: inline-block;line-height: 1.2em;}#sk-container-id-7 div.sk-label-container {text-align: center;}#sk-container-id-7 div.sk-container {/* jupyter's `normalize.less` sets `[hidden] { display: none; }` but bootstrap.min.css set `[hidden] { display: none !important; }` so we also need the `!important` here to be able to override the default hidden behavior on the sphinx rendered scikit-learn.org. See: https://github.com/scikit-learn/scikit-learn/issues/21755 */display: inline-block !important;position: relative;}#sk-container-id-7 div.sk-text-repr-fallback {display: none;}</style><div id=\"sk-container-id-7\" class=\"sk-top-container\"><div class=\"sk-text-repr-fallback\"><pre>GridSearchCV(cv=10, estimator=Ridge(fit_intercept=False, random_state=33),\n",
       "             param_grid={&#x27;alpha&#x27;: array([    0,  1000,  2000,  3000,  4000,  5000,  6000,  7000,  8000,\n",
       "        9000, 10000, 11000, 12000, 13000, 14000, 15000, 16000, 17000,\n",
       "       18000, 19000, 20000, 21000, 22000, 23000, 24000, 25000, 26000,\n",
       "       27000, 28000, 29000, 30000, 31000, 32000, 33000, 34000, 35000,\n",
       "       36000, 37000, 38000, 39000, 40000, 41000, 42000, 43000,...\n",
       "       45000, 46000, 47000, 48000, 49000, 50000, 51000, 52000, 53000,\n",
       "       54000, 55000, 56000, 57000, 58000, 59000, 60000, 61000, 62000,\n",
       "       63000, 64000, 65000, 66000, 67000, 68000, 69000, 70000, 71000,\n",
       "       72000, 73000, 74000, 75000, 76000, 77000, 78000, 79000, 80000,\n",
       "       81000, 82000, 83000, 84000, 85000, 86000, 87000, 88000, 89000,\n",
       "       90000, 91000, 92000, 93000, 94000, 95000, 96000, 97000, 98000,\n",
       "       99000]),\n",
       "                         &#x27;max_iter&#x27;: [1500, 3000]},\n",
       "             scoring=&#x27;neg_median_absolute_error&#x27;)</pre><b>In a Jupyter environment, please rerun this cell to show the HTML representation or trust the notebook. <br />On GitHub, the HTML representation is unable to render, please try loading this page with nbviewer.org.</b></div><div class=\"sk-container\" hidden><div class=\"sk-item sk-dashed-wrapped\"><div class=\"sk-label-container\"><div class=\"sk-label sk-toggleable\"><input class=\"sk-toggleable__control sk-hidden--visually\" id=\"sk-estimator-id-19\" type=\"checkbox\" ><label for=\"sk-estimator-id-19\" class=\"sk-toggleable__label sk-toggleable__label-arrow\">GridSearchCV</label><div class=\"sk-toggleable__content\"><pre>GridSearchCV(cv=10, estimator=Ridge(fit_intercept=False, random_state=33),\n",
       "             param_grid={&#x27;alpha&#x27;: array([    0,  1000,  2000,  3000,  4000,  5000,  6000,  7000,  8000,\n",
       "        9000, 10000, 11000, 12000, 13000, 14000, 15000, 16000, 17000,\n",
       "       18000, 19000, 20000, 21000, 22000, 23000, 24000, 25000, 26000,\n",
       "       27000, 28000, 29000, 30000, 31000, 32000, 33000, 34000, 35000,\n",
       "       36000, 37000, 38000, 39000, 40000, 41000, 42000, 43000,...\n",
       "       45000, 46000, 47000, 48000, 49000, 50000, 51000, 52000, 53000,\n",
       "       54000, 55000, 56000, 57000, 58000, 59000, 60000, 61000, 62000,\n",
       "       63000, 64000, 65000, 66000, 67000, 68000, 69000, 70000, 71000,\n",
       "       72000, 73000, 74000, 75000, 76000, 77000, 78000, 79000, 80000,\n",
       "       81000, 82000, 83000, 84000, 85000, 86000, 87000, 88000, 89000,\n",
       "       90000, 91000, 92000, 93000, 94000, 95000, 96000, 97000, 98000,\n",
       "       99000]),\n",
       "                         &#x27;max_iter&#x27;: [1500, 3000]},\n",
       "             scoring=&#x27;neg_median_absolute_error&#x27;)</pre></div></div></div><div class=\"sk-parallel\"><div class=\"sk-parallel-item\"><div class=\"sk-item\"><div class=\"sk-label-container\"><div class=\"sk-label sk-toggleable\"><input class=\"sk-toggleable__control sk-hidden--visually\" id=\"sk-estimator-id-20\" type=\"checkbox\" ><label for=\"sk-estimator-id-20\" class=\"sk-toggleable__label sk-toggleable__label-arrow\">estimator: Ridge</label><div class=\"sk-toggleable__content\"><pre>Ridge(fit_intercept=False, random_state=33)</pre></div></div></div><div class=\"sk-serial\"><div class=\"sk-item\"><div class=\"sk-estimator sk-toggleable\"><input class=\"sk-toggleable__control sk-hidden--visually\" id=\"sk-estimator-id-21\" type=\"checkbox\" ><label for=\"sk-estimator-id-21\" class=\"sk-toggleable__label sk-toggleable__label-arrow\">Ridge</label><div class=\"sk-toggleable__content\"><pre>Ridge(fit_intercept=False, random_state=33)</pre></div></div></div></div></div></div></div></div></div></div>"
      ],
      "text/plain": [
       "GridSearchCV(cv=10, estimator=Ridge(fit_intercept=False, random_state=33),\n",
       "             param_grid={'alpha': array([    0,  1000,  2000,  3000,  4000,  5000,  6000,  7000,  8000,\n",
       "        9000, 10000, 11000, 12000, 13000, 14000, 15000, 16000, 17000,\n",
       "       18000, 19000, 20000, 21000, 22000, 23000, 24000, 25000, 26000,\n",
       "       27000, 28000, 29000, 30000, 31000, 32000, 33000, 34000, 35000,\n",
       "       36000, 37000, 38000, 39000, 40000, 41000, 42000, 43000,...\n",
       "       45000, 46000, 47000, 48000, 49000, 50000, 51000, 52000, 53000,\n",
       "       54000, 55000, 56000, 57000, 58000, 59000, 60000, 61000, 62000,\n",
       "       63000, 64000, 65000, 66000, 67000, 68000, 69000, 70000, 71000,\n",
       "       72000, 73000, 74000, 75000, 76000, 77000, 78000, 79000, 80000,\n",
       "       81000, 82000, 83000, 84000, 85000, 86000, 87000, 88000, 89000,\n",
       "       90000, 91000, 92000, 93000, 94000, 95000, 96000, 97000, 98000,\n",
       "       99000]),\n",
       "                         'max_iter': [1500, 3000]},\n",
       "             scoring='neg_median_absolute_error')"
      ]
     },
     "execution_count": 45,
     "metadata": {},
     "output_type": "execute_result"
    }
   ],
   "source": [
    "%%time\n",
    "\n",
    "# побудувати та натренувати гребневу регресійну модель на сітці 'grid_params'\n",
    "# в якості критерія оцінки якості взяти метрику `neg_mean_absolute_percentage_error`\n",
    "\n",
    "# створюємо сітку пошуку та тренуємо на ній модель\n",
    "grid_search_model = GridSearchCV(ridge, param_grid=grid_params, cv = 10,\n",
    "scoring='neg_median_absolute_error')\n",
    "\n",
    "grid_search_model.fit(data, price)"
   ]
  },
  {
   "cell_type": "code",
   "execution_count": 46,
   "id": "a06ea03d",
   "metadata": {},
   "outputs": [
    {
     "data": {
      "text/plain": [
       "(Ridge(alpha=0, fit_intercept=False, max_iter=1500, random_state=33),\n",
       " -51426.263497800246)"
      ]
     },
     "execution_count": 46,
     "metadata": {},
     "output_type": "execute_result"
    }
   ],
   "source": [
    "# вивести найкращій естіматор (best_estimator_), та найкраще значення обраної метрики (best_score_)\n",
    "grid_search_model.best_estimator_, grid_search_model.best_score_"
   ]
  },
  {
   "cell_type": "markdown",
   "id": "2c6b8083",
   "metadata": {},
   "source": [
    "### Висновки\n",
    "\n",
    "_cпираючись на отримані метрики якості зробити висновок про придатність моделі, недонавчана чи перенавчана вона і т.п._\n",
    "\n",
    "### Відповідь:\n",
    "Оскільки при масштабуванні даних було використано масштабувач MinMaxScaler (?), тому ми можемо побачити, що при поточній перевірці наша модель недонавчилась."
   ]
  },
  {
   "cell_type": "markdown",
   "id": "d2792628",
   "metadata": {},
   "source": [
    "## 3. Поліноміальна регресія"
   ]
  },
  {
   "cell_type": "markdown",
   "id": "075bd403",
   "metadata": {},
   "source": [
    "### Теоретичне введення"
   ]
  },
  {
   "cell_type": "markdown",
   "id": "512d140f",
   "metadata": {},
   "source": [
    "__Поліноміальна регресія__ — це тип нелінійної регресії, у якому зв’язок між незалежною змінною $\\large x$ і залежною змінною $\\large y$ моделюється як поліноміальна функція n-го ступеня:\n",
    "\n",
    "$$ y = \\beta_0 + \\beta_1 x + \\beta_2 x^2 + \\beta_3 x^3 + \\cdots + \\beta_n x^n + \\varepsilon $$\n",
    "\n",
    "__Метою__ поліноміальної регресії є знаходження значень коефіцієнтів $ β_i$, які найкраще відповідають даним."
   ]
  },
  {
   "cell_type": "markdown",
   "id": "f17ee202",
   "metadata": {},
   "source": [
    "### Завдання\n",
    "\n",
    "\n",
    "Порахувати показчики якості моделі на [поліноміальній регресії](https://uk.wikipedia.org/wiki/Поліноміальна_регресія) на визначених в п.1 значущих ознаках датасету, попередньо розширивши датасет за допомогою трансформера [PolynomialFeatures](https://scikit-learn.org/stable/modules/generated/sklearn.preprocessing.PolynomialFeatures.html)"
   ]
  },
  {
   "cell_type": "code",
   "execution_count": 47,
   "id": "d60b613c",
   "metadata": {
    "scrolled": true
   },
   "outputs": [],
   "source": [
    "# імпортувати модуль preprocessing.PolynomialFeatures\n",
    "from sklearn.preprocessing import PolynomialFeatures\n",
    "\n",
    "# побудувати трансформер ступеня 2 для побудови додаткових ознак в датасеті\n",
    "poly = PolynomialFeatures(degree = 2)\n",
    "poly_dd = poly.fit_transform(data, price)"
   ]
  },
  {
   "cell_type": "code",
   "execution_count": 48,
   "id": "435dd363",
   "metadata": {},
   "outputs": [],
   "source": [
    "# визначити імена відібраних показчиків\n",
    "poly_features_names = poly.get_feature_names_out()"
   ]
  },
  {
   "cell_type": "code",
   "execution_count": 50,
   "id": "128e08be",
   "metadata": {},
   "outputs": [
    {
     "data": {
      "text/plain": [
       "(376, 36)"
      ]
     },
     "execution_count": 50,
     "metadata": {},
     "output_type": "execute_result"
    }
   ],
   "source": [
    "# побудувати датасет на визначеному поліномі `poly`\n",
    "data_poly = pd.DataFrame(poly_dd)\n",
    "data_poly.columns = poly_features_names\n",
    "data_poly.shape"
   ]
  },
  {
   "cell_type": "code",
   "execution_count": 52,
   "id": "f1b7d2f9",
   "metadata": {},
   "outputs": [],
   "source": [
    "# отримати результати крос-валідації на множинном регресорі `lr` по параметрам 'neg_mean_absolute_percentage_error' \n",
    "# та 'r2' на 10 сплітах передбачивши розрахунок на навчальному наборі 'return_train_score'\n",
    "cv_results_poly = cross_validate(lr, data_poly, price, scoring = ['neg_mean_absolute_percentage_error', 'r2'],\n",
    "                                cv=KFold(n_splits=10, random_state=None, shuffle=True), \n",
    "                                return_train_score = True)"
   ]
  },
  {
   "cell_type": "code",
   "execution_count": 53,
   "id": "02761153",
   "metadata": {},
   "outputs": [
    {
     "data": {
      "text/html": [
       "<div>\n",
       "<style scoped>\n",
       "    .dataframe tbody tr th:only-of-type {\n",
       "        vertical-align: middle;\n",
       "    }\n",
       "\n",
       "    .dataframe tbody tr th {\n",
       "        vertical-align: top;\n",
       "    }\n",
       "\n",
       "    .dataframe thead th {\n",
       "        text-align: right;\n",
       "    }\n",
       "</style>\n",
       "<table border=\"1\" class=\"dataframe\">\n",
       "  <thead>\n",
       "    <tr style=\"text-align: right;\">\n",
       "      <th></th>\n",
       "      <th>помилка тесту в %</th>\n",
       "      <th>коеф. R2 тесту</th>\n",
       "      <th>помилка навчання в %</th>\n",
       "      <th>коеф. R2 навчання</th>\n",
       "    </tr>\n",
       "  </thead>\n",
       "  <tbody>\n",
       "    <tr>\n",
       "      <th>0</th>\n",
       "      <td>-9.036648e-02</td>\n",
       "      <td>9.383639e-01</td>\n",
       "      <td>-0.088513</td>\n",
       "      <td>0.997499</td>\n",
       "    </tr>\n",
       "    <tr>\n",
       "      <th>1</th>\n",
       "      <td>-6.805020e+09</td>\n",
       "      <td>-7.860709e+21</td>\n",
       "      <td>-0.080241</td>\n",
       "      <td>0.997509</td>\n",
       "    </tr>\n",
       "    <tr>\n",
       "      <th>2</th>\n",
       "      <td>-7.882205e+09</td>\n",
       "      <td>-4.099981e+19</td>\n",
       "      <td>-0.081748</td>\n",
       "      <td>0.976590</td>\n",
       "    </tr>\n",
       "    <tr>\n",
       "      <th>3</th>\n",
       "      <td>-1.019955e-01</td>\n",
       "      <td>9.875577e-01</td>\n",
       "      <td>-0.081438</td>\n",
       "      <td>0.997545</td>\n",
       "    </tr>\n",
       "    <tr>\n",
       "      <th>4</th>\n",
       "      <td>-1.556432e+10</td>\n",
       "      <td>-4.229240e+21</td>\n",
       "      <td>-0.089911</td>\n",
       "      <td>0.997477</td>\n",
       "    </tr>\n",
       "  </tbody>\n",
       "</table>\n",
       "</div>"
      ],
      "text/plain": [
       "   помилка тесту в %  коеф. R2 тесту  помилка навчання в %  коеф. R2 навчання\n",
       "0      -9.036648e-02    9.383639e-01             -0.088513           0.997499\n",
       "1      -6.805020e+09   -7.860709e+21             -0.080241           0.997509\n",
       "2      -7.882205e+09   -4.099981e+19             -0.081748           0.976590\n",
       "3      -1.019955e-01    9.875577e-01             -0.081438           0.997545\n",
       "4      -1.556432e+10   -4.229240e+21             -0.089911           0.997477"
      ]
     },
     "execution_count": 53,
     "metadata": {},
     "output_type": "execute_result"
    }
   ],
   "source": [
    "# занести результати крос-валідації: помилка тесту, помилка навчання та відповідні коефіцієнти \n",
    "# детермінаційї в датафрейм `cv_results_poly`. \n",
    "cv_results_poly = pd.DataFrame({\n",
    "    'помилка тесту в %': cv_results_poly['test_neg_mean_absolute_percentage_error'],\n",
    "    'коеф. R2 тесту': cv_results_poly['test_r2'],\n",
    "    'помилка навчання в %': cv_results_poly['train_neg_mean_absolute_percentage_error'],\n",
    "    'коеф. R2 навчання': cv_results_poly['train_r2']\n",
    "})\n",
    "\n",
    "cv_results_poly.head()"
   ]
  },
  {
   "cell_type": "code",
   "execution_count": 54,
   "id": "e952830a",
   "metadata": {},
   "outputs": [],
   "source": [
    "# за допомогою крос-валідатора 'cross_val_predict' побудувати прогноз 'price_pred' \n",
    "# на лінійному регресорі на 10 сплітах\n",
    "from sklearn.model_selection import cross_val_predict\n",
    "\n",
    "price_pred = cross_val_predict(lr, data_poly, price, cv=10)"
   ]
  },
  {
   "cell_type": "code",
   "execution_count": 55,
   "id": "ddc4e7e8",
   "metadata": {
    "scrolled": false
   },
   "outputs": [
    {
     "data": {
      "text/html": [
       "<div>\n",
       "<style scoped>\n",
       "    .dataframe tbody tr th:only-of-type {\n",
       "        vertical-align: middle;\n",
       "    }\n",
       "\n",
       "    .dataframe tbody tr th {\n",
       "        vertical-align: top;\n",
       "    }\n",
       "\n",
       "    .dataframe thead th {\n",
       "        text-align: right;\n",
       "    }\n",
       "</style>\n",
       "<table border=\"1\" class=\"dataframe\">\n",
       "  <thead>\n",
       "    <tr style=\"text-align: right;\">\n",
       "      <th></th>\n",
       "      <th>ціна реальна</th>\n",
       "      <th>ціна прогнозна</th>\n",
       "    </tr>\n",
       "  </thead>\n",
       "  <tbody>\n",
       "    <tr>\n",
       "      <th>0</th>\n",
       "      <td>30970.0</td>\n",
       "      <td>26154.0</td>\n",
       "    </tr>\n",
       "    <tr>\n",
       "      <th>1</th>\n",
       "      <td>82000.0</td>\n",
       "      <td>85637.0</td>\n",
       "    </tr>\n",
       "    <tr>\n",
       "      <th>2</th>\n",
       "      <td>135000.0</td>\n",
       "      <td>145395.0</td>\n",
       "    </tr>\n",
       "    <tr>\n",
       "      <th>3</th>\n",
       "      <td>84000.0</td>\n",
       "      <td>88519.0</td>\n",
       "    </tr>\n",
       "    <tr>\n",
       "      <th>4</th>\n",
       "      <td>60000.0</td>\n",
       "      <td>57009.0</td>\n",
       "    </tr>\n",
       "  </tbody>\n",
       "</table>\n",
       "</div>"
      ],
      "text/plain": [
       "   ціна реальна  ціна прогнозна\n",
       "0       30970.0         26154.0\n",
       "1       82000.0         85637.0\n",
       "2      135000.0        145395.0\n",
       "3       84000.0         88519.0\n",
       "4       60000.0         57009.0"
      ]
     },
     "execution_count": 55,
     "metadata": {},
     "output_type": "execute_result"
    }
   ],
   "source": [
    "# вивести порівняльну таблицю з двох колонок: ціна реальна, ціна прогнозна\n",
    "pred = pd.DataFrame({'ціна реальна': price,\n",
    "                     'ціна прогнозна': np.round(price_pred)})\n",
    "pred.head(5)"
   ]
  },
  {
   "cell_type": "code",
   "execution_count": 56,
   "id": "b6da2c2a",
   "metadata": {},
   "outputs": [
    {
     "data": {
      "text/html": [
       "<style>#sk-container-id-8 {color: black;background-color: white;}#sk-container-id-8 pre{padding: 0;}#sk-container-id-8 div.sk-toggleable {background-color: white;}#sk-container-id-8 label.sk-toggleable__label {cursor: pointer;display: block;width: 100%;margin-bottom: 0;padding: 0.3em;box-sizing: border-box;text-align: center;}#sk-container-id-8 label.sk-toggleable__label-arrow:before {content: \"▸\";float: left;margin-right: 0.25em;color: #696969;}#sk-container-id-8 label.sk-toggleable__label-arrow:hover:before {color: black;}#sk-container-id-8 div.sk-estimator:hover label.sk-toggleable__label-arrow:before {color: black;}#sk-container-id-8 div.sk-toggleable__content {max-height: 0;max-width: 0;overflow: hidden;text-align: left;background-color: #f0f8ff;}#sk-container-id-8 div.sk-toggleable__content pre {margin: 0.2em;color: black;border-radius: 0.25em;background-color: #f0f8ff;}#sk-container-id-8 input.sk-toggleable__control:checked~div.sk-toggleable__content {max-height: 200px;max-width: 100%;overflow: auto;}#sk-container-id-8 input.sk-toggleable__control:checked~label.sk-toggleable__label-arrow:before {content: \"▾\";}#sk-container-id-8 div.sk-estimator input.sk-toggleable__control:checked~label.sk-toggleable__label {background-color: #d4ebff;}#sk-container-id-8 div.sk-label input.sk-toggleable__control:checked~label.sk-toggleable__label {background-color: #d4ebff;}#sk-container-id-8 input.sk-hidden--visually {border: 0;clip: rect(1px 1px 1px 1px);clip: rect(1px, 1px, 1px, 1px);height: 1px;margin: -1px;overflow: hidden;padding: 0;position: absolute;width: 1px;}#sk-container-id-8 div.sk-estimator {font-family: monospace;background-color: #f0f8ff;border: 1px dotted black;border-radius: 0.25em;box-sizing: border-box;margin-bottom: 0.5em;}#sk-container-id-8 div.sk-estimator:hover {background-color: #d4ebff;}#sk-container-id-8 div.sk-parallel-item::after {content: \"\";width: 100%;border-bottom: 1px solid gray;flex-grow: 1;}#sk-container-id-8 div.sk-label:hover label.sk-toggleable__label {background-color: #d4ebff;}#sk-container-id-8 div.sk-serial::before {content: \"\";position: absolute;border-left: 1px solid gray;box-sizing: border-box;top: 0;bottom: 0;left: 50%;z-index: 0;}#sk-container-id-8 div.sk-serial {display: flex;flex-direction: column;align-items: center;background-color: white;padding-right: 0.2em;padding-left: 0.2em;position: relative;}#sk-container-id-8 div.sk-item {position: relative;z-index: 1;}#sk-container-id-8 div.sk-parallel {display: flex;align-items: stretch;justify-content: center;background-color: white;position: relative;}#sk-container-id-8 div.sk-item::before, #sk-container-id-8 div.sk-parallel-item::before {content: \"\";position: absolute;border-left: 1px solid gray;box-sizing: border-box;top: 0;bottom: 0;left: 50%;z-index: -1;}#sk-container-id-8 div.sk-parallel-item {display: flex;flex-direction: column;z-index: 1;position: relative;background-color: white;}#sk-container-id-8 div.sk-parallel-item:first-child::after {align-self: flex-end;width: 50%;}#sk-container-id-8 div.sk-parallel-item:last-child::after {align-self: flex-start;width: 50%;}#sk-container-id-8 div.sk-parallel-item:only-child::after {width: 0;}#sk-container-id-8 div.sk-dashed-wrapped {border: 1px dashed gray;margin: 0 0.4em 0.5em 0.4em;box-sizing: border-box;padding-bottom: 0.4em;background-color: white;}#sk-container-id-8 div.sk-label label {font-family: monospace;font-weight: bold;display: inline-block;line-height: 1.2em;}#sk-container-id-8 div.sk-label-container {text-align: center;}#sk-container-id-8 div.sk-container {/* jupyter's `normalize.less` sets `[hidden] { display: none; }` but bootstrap.min.css set `[hidden] { display: none !important; }` so we also need the `!important` here to be able to override the default hidden behavior on the sphinx rendered scikit-learn.org. See: https://github.com/scikit-learn/scikit-learn/issues/21755 */display: inline-block !important;position: relative;}#sk-container-id-8 div.sk-text-repr-fallback {display: none;}</style><div id=\"sk-container-id-8\" class=\"sk-top-container\"><div class=\"sk-text-repr-fallback\"><pre>LinearRegression()</pre><b>In a Jupyter environment, please rerun this cell to show the HTML representation or trust the notebook. <br />On GitHub, the HTML representation is unable to render, please try loading this page with nbviewer.org.</b></div><div class=\"sk-container\" hidden><div class=\"sk-item\"><div class=\"sk-estimator sk-toggleable\"><input class=\"sk-toggleable__control sk-hidden--visually\" id=\"sk-estimator-id-22\" type=\"checkbox\" checked><label for=\"sk-estimator-id-22\" class=\"sk-toggleable__label sk-toggleable__label-arrow\">LinearRegression</label><div class=\"sk-toggleable__content\"><pre>LinearRegression()</pre></div></div></div></div></div>"
      ],
      "text/plain": [
       "LinearRegression()"
      ]
     },
     "execution_count": 56,
     "metadata": {},
     "output_type": "execute_result"
    }
   ],
   "source": [
    "# натренувати регресор `lr` на поліноміальних ознаках `data_poly`\n",
    "lr.fit(data_poly,price)"
   ]
  },
  {
   "cell_type": "code",
   "execution_count": 59,
   "id": "a9e3c1b8",
   "metadata": {},
   "outputs": [
    {
     "data": {
      "text/html": [
       "<div>\n",
       "<style scoped>\n",
       "    .dataframe tbody tr th:only-of-type {\n",
       "        vertical-align: middle;\n",
       "    }\n",
       "\n",
       "    .dataframe tbody tr th {\n",
       "        vertical-align: top;\n",
       "    }\n",
       "\n",
       "    .dataframe thead th {\n",
       "        text-align: right;\n",
       "    }\n",
       "</style>\n",
       "<table border=\"1\" class=\"dataframe\">\n",
       "  <thead>\n",
       "    <tr style=\"text-align: right;\">\n",
       "      <th></th>\n",
       "      <th>Ознаки</th>\n",
       "      <th>коеф.регресора</th>\n",
       "    </tr>\n",
       "  </thead>\n",
       "  <tbody>\n",
       "    <tr>\n",
       "      <th>0</th>\n",
       "      <td>1</td>\n",
       "      <td>0</td>\n",
       "    </tr>\n",
       "    <tr>\n",
       "      <th>1</th>\n",
       "      <td>one_hot_encoder__street_Мічуріна</td>\n",
       "      <td>-2147483648</td>\n",
       "    </tr>\n",
       "    <tr>\n",
       "      <th>2</th>\n",
       "      <td>one_hot_encoder__street_Саксаганського</td>\n",
       "      <td>-2147483648</td>\n",
       "    </tr>\n",
       "    <tr>\n",
       "      <th>3</th>\n",
       "      <td>numeric_encoder__rooms</td>\n",
       "      <td>92941</td>\n",
       "    </tr>\n",
       "    <tr>\n",
       "      <th>4</th>\n",
       "      <td>numeric_encoder__price_per_m2</td>\n",
       "      <td>5378132</td>\n",
       "    </tr>\n",
       "    <tr>\n",
       "      <th>5</th>\n",
       "      <td>numeric_encoder__area_total</td>\n",
       "      <td>332193</td>\n",
       "    </tr>\n",
       "    <tr>\n",
       "      <th>6</th>\n",
       "      <td>numeric_encoder__area_living</td>\n",
       "      <td>-177520</td>\n",
       "    </tr>\n",
       "    <tr>\n",
       "      <th>7</th>\n",
       "      <td>numeric_encoder__area_comfort</td>\n",
       "      <td>-191251</td>\n",
       "    </tr>\n",
       "    <tr>\n",
       "      <th>8</th>\n",
       "      <td>one_hot_encoder__street_Мічуріна^2</td>\n",
       "      <td>-2147483648</td>\n",
       "    </tr>\n",
       "    <tr>\n",
       "      <th>9</th>\n",
       "      <td>one_hot_encoder__street_Мічуріна one_hot_encod...</td>\n",
       "      <td>-2147483648</td>\n",
       "    </tr>\n",
       "    <tr>\n",
       "      <th>10</th>\n",
       "      <td>one_hot_encoder__street_Мічуріна numeric_encod...</td>\n",
       "      <td>-2147483648</td>\n",
       "    </tr>\n",
       "    <tr>\n",
       "      <th>11</th>\n",
       "      <td>one_hot_encoder__street_Мічуріна numeric_encod...</td>\n",
       "      <td>-2147483648</td>\n",
       "    </tr>\n",
       "    <tr>\n",
       "      <th>12</th>\n",
       "      <td>one_hot_encoder__street_Мічуріна numeric_encod...</td>\n",
       "      <td>-2147483648</td>\n",
       "    </tr>\n",
       "    <tr>\n",
       "      <th>13</th>\n",
       "      <td>one_hot_encoder__street_Мічуріна numeric_encod...</td>\n",
       "      <td>-2147483648</td>\n",
       "    </tr>\n",
       "    <tr>\n",
       "      <th>14</th>\n",
       "      <td>one_hot_encoder__street_Мічуріна numeric_encod...</td>\n",
       "      <td>-2147483648</td>\n",
       "    </tr>\n",
       "    <tr>\n",
       "      <th>15</th>\n",
       "      <td>one_hot_encoder__street_Саксаганського^2</td>\n",
       "      <td>-2147483648</td>\n",
       "    </tr>\n",
       "    <tr>\n",
       "      <th>16</th>\n",
       "      <td>one_hot_encoder__street_Саксаганського numeric...</td>\n",
       "      <td>-264621</td>\n",
       "    </tr>\n",
       "    <tr>\n",
       "      <th>17</th>\n",
       "      <td>one_hot_encoder__street_Саксаганського numeric...</td>\n",
       "      <td>38054765</td>\n",
       "    </tr>\n",
       "    <tr>\n",
       "      <th>18</th>\n",
       "      <td>one_hot_encoder__street_Саксаганського numeric...</td>\n",
       "      <td>-4776055</td>\n",
       "    </tr>\n",
       "    <tr>\n",
       "      <th>19</th>\n",
       "      <td>one_hot_encoder__street_Саксаганського numeric...</td>\n",
       "      <td>9199338</td>\n",
       "    </tr>\n",
       "    <tr>\n",
       "      <th>20</th>\n",
       "      <td>one_hot_encoder__street_Саксаганського numeric...</td>\n",
       "      <td>3907524</td>\n",
       "    </tr>\n",
       "    <tr>\n",
       "      <th>21</th>\n",
       "      <td>numeric_encoder__rooms^2</td>\n",
       "      <td>114454</td>\n",
       "    </tr>\n",
       "    <tr>\n",
       "      <th>22</th>\n",
       "      <td>numeric_encoder__rooms numeric_encoder__price_...</td>\n",
       "      <td>2480183</td>\n",
       "    </tr>\n",
       "    <tr>\n",
       "      <th>23</th>\n",
       "      <td>numeric_encoder__rooms numeric_encoder__area_t...</td>\n",
       "      <td>-142449</td>\n",
       "    </tr>\n",
       "    <tr>\n",
       "      <th>24</th>\n",
       "      <td>numeric_encoder__rooms numeric_encoder__area_l...</td>\n",
       "      <td>-309251</td>\n",
       "    </tr>\n",
       "    <tr>\n",
       "      <th>25</th>\n",
       "      <td>numeric_encoder__rooms numeric_encoder__area_c...</td>\n",
       "      <td>-483568</td>\n",
       "    </tr>\n",
       "    <tr>\n",
       "      <th>26</th>\n",
       "      <td>numeric_encoder__price_per_m2^2</td>\n",
       "      <td>-39990043</td>\n",
       "    </tr>\n",
       "    <tr>\n",
       "      <th>27</th>\n",
       "      <td>numeric_encoder__price_per_m2 numeric_encoder_...</td>\n",
       "      <td>47995009</td>\n",
       "    </tr>\n",
       "    <tr>\n",
       "      <th>28</th>\n",
       "      <td>numeric_encoder__price_per_m2 numeric_encoder_...</td>\n",
       "      <td>5918336</td>\n",
       "    </tr>\n",
       "    <tr>\n",
       "      <th>29</th>\n",
       "      <td>numeric_encoder__price_per_m2 numeric_encoder_...</td>\n",
       "      <td>7347295</td>\n",
       "    </tr>\n",
       "    <tr>\n",
       "      <th>30</th>\n",
       "      <td>numeric_encoder__area_total^2</td>\n",
       "      <td>-655722</td>\n",
       "    </tr>\n",
       "    <tr>\n",
       "      <th>31</th>\n",
       "      <td>numeric_encoder__area_total numeric_encoder__a...</td>\n",
       "      <td>188337</td>\n",
       "    </tr>\n",
       "    <tr>\n",
       "      <th>32</th>\n",
       "      <td>numeric_encoder__area_total numeric_encoder__a...</td>\n",
       "      <td>2887623</td>\n",
       "    </tr>\n",
       "    <tr>\n",
       "      <th>33</th>\n",
       "      <td>numeric_encoder__area_living^2</td>\n",
       "      <td>666077</td>\n",
       "    </tr>\n",
       "    <tr>\n",
       "      <th>34</th>\n",
       "      <td>numeric_encoder__area_living numeric_encoder__...</td>\n",
       "      <td>-759948</td>\n",
       "    </tr>\n",
       "    <tr>\n",
       "      <th>35</th>\n",
       "      <td>numeric_encoder__area_comfort^2</td>\n",
       "      <td>-1477125</td>\n",
       "    </tr>\n",
       "  </tbody>\n",
       "</table>\n",
       "</div>"
      ],
      "text/plain": [
       "                                               Ознаки  коеф.регресора\n",
       "0                                                   1               0\n",
       "1                    one_hot_encoder__street_Мічуріна     -2147483648\n",
       "2              one_hot_encoder__street_Саксаганського     -2147483648\n",
       "3                              numeric_encoder__rooms           92941\n",
       "4                       numeric_encoder__price_per_m2         5378132\n",
       "5                         numeric_encoder__area_total          332193\n",
       "6                        numeric_encoder__area_living         -177520\n",
       "7                       numeric_encoder__area_comfort         -191251\n",
       "8                  one_hot_encoder__street_Мічуріна^2     -2147483648\n",
       "9   one_hot_encoder__street_Мічуріна one_hot_encod...     -2147483648\n",
       "10  one_hot_encoder__street_Мічуріна numeric_encod...     -2147483648\n",
       "11  one_hot_encoder__street_Мічуріна numeric_encod...     -2147483648\n",
       "12  one_hot_encoder__street_Мічуріна numeric_encod...     -2147483648\n",
       "13  one_hot_encoder__street_Мічуріна numeric_encod...     -2147483648\n",
       "14  one_hot_encoder__street_Мічуріна numeric_encod...     -2147483648\n",
       "15           one_hot_encoder__street_Саксаганського^2     -2147483648\n",
       "16  one_hot_encoder__street_Саксаганського numeric...         -264621\n",
       "17  one_hot_encoder__street_Саксаганського numeric...        38054765\n",
       "18  one_hot_encoder__street_Саксаганського numeric...        -4776055\n",
       "19  one_hot_encoder__street_Саксаганського numeric...         9199338\n",
       "20  one_hot_encoder__street_Саксаганського numeric...         3907524\n",
       "21                           numeric_encoder__rooms^2          114454\n",
       "22  numeric_encoder__rooms numeric_encoder__price_...         2480183\n",
       "23  numeric_encoder__rooms numeric_encoder__area_t...         -142449\n",
       "24  numeric_encoder__rooms numeric_encoder__area_l...         -309251\n",
       "25  numeric_encoder__rooms numeric_encoder__area_c...         -483568\n",
       "26                    numeric_encoder__price_per_m2^2       -39990043\n",
       "27  numeric_encoder__price_per_m2 numeric_encoder_...        47995009\n",
       "28  numeric_encoder__price_per_m2 numeric_encoder_...         5918336\n",
       "29  numeric_encoder__price_per_m2 numeric_encoder_...         7347295\n",
       "30                      numeric_encoder__area_total^2         -655722\n",
       "31  numeric_encoder__area_total numeric_encoder__a...          188337\n",
       "32  numeric_encoder__area_total numeric_encoder__a...         2887623\n",
       "33                     numeric_encoder__area_living^2          666077\n",
       "34  numeric_encoder__area_living numeric_encoder__...         -759948\n",
       "35                    numeric_encoder__area_comfort^2        -1477125"
      ]
     },
     "execution_count": 59,
     "metadata": {},
     "output_type": "execute_result"
    }
   ],
   "source": [
    "# сформувати таблицю коєфіцієнтів поліному\n",
    "coef = pd.DataFrame({'Ознаки': poly_features_names,\n",
    "                     'коеф.регресора': lr.coef_.astype('int')})"
   ]
  },
  {
   "cell_type": "markdown",
   "id": "815a5d54",
   "metadata": {},
   "source": [
    "### Висновки\n",
    "\n",
    "_Базуючись на значенях метрик абсолютної помилки та r2-оцінки, сформулювати вашу думку чи відповідає поліноміальна модель вимогам якості та дати характеристику декільком коефіцієнтам (3-4) на свій вибір._ \n",
    "\n",
    "На мою думку, поліномінальна модель не є найкращим варіантом, але значення помилки при навчанні та значення коєфіцієнту детермінаці (R) є вищими за ridge-регресію, що можна вважати за \"вдале\" навчання\".\n",
    "Хоча результати тестів навштовкують на потенційне \"overfitting\" моделі."
   ]
  },
  {
   "cell_type": "markdown",
   "id": "29f6d1f5",
   "metadata": {},
   "source": [
    "## 5. Зберігання побудованх моделей"
   ]
  },
  {
   "cell_type": "code",
   "execution_count": 58,
   "id": "6bbe7ad0",
   "metadata": {},
   "outputs": [],
   "source": [
    "# зберегти лінийну, гребневу та поліноміальну моделі у відпрвідних pickle-файлах:\n",
    "# 'lin_model.pkl', 'ridge_model.pkl', 'poly_model.pkl'\n",
    "import pickle as pkl\n",
    "\n",
    "save_names = ['lin_model.pkl', 'ridge_model.pkl', 'poly_model.pkl']\n",
    "save_mods = [lr, ridge, poly]\n",
    "\n",
    "for i in range(len(save_names)):\n",
    "    with open(save_names[i], 'wb') as file:\n",
    "        pkl.dump(save_mods[i], file)"
   ]
  },
  {
   "cell_type": "code",
   "execution_count": null,
   "id": "f5a4475a",
   "metadata": {},
   "outputs": [],
   "source": []
  }
 ],
 "metadata": {
  "kernelspec": {
   "display_name": "Python 3 (ipykernel)",
   "language": "python",
   "name": "python3"
  },
  "language_info": {
   "codemirror_mode": {
    "name": "ipython",
    "version": 3
   },
   "file_extension": ".py",
   "mimetype": "text/x-python",
   "name": "python",
   "nbconvert_exporter": "python",
   "pygments_lexer": "ipython3",
   "version": "3.9.13"
  },
  "varInspector": {
   "cols": {
    "lenName": 16,
    "lenType": 16,
    "lenVar": 40
   },
   "kernels_config": {
    "python": {
     "delete_cmd_postfix": "",
     "delete_cmd_prefix": "del ",
     "library": "var_list.py",
     "varRefreshCmd": "print(var_dic_list())"
    },
    "r": {
     "delete_cmd_postfix": ") ",
     "delete_cmd_prefix": "rm(",
     "library": "var_list.r",
     "varRefreshCmd": "cat(var_dic_list()) "
    }
   },
   "types_to_exclude": [
    "module",
    "function",
    "builtin_function_or_method",
    "instance",
    "_Feature"
   ],
   "window_display": false
  }
 },
 "nbformat": 4,
 "nbformat_minor": 5
}
